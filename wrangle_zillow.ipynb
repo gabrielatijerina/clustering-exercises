{
 "cells": [
  {
   "cell_type": "code",
   "execution_count": 5,
   "metadata": {},
   "outputs": [],
   "source": [
    "import warnings\n",
    "warnings.filterwarnings(\"ignore\")\n",
    "\n",
    "# Wrangling\n",
    "import pandas as pd\n",
    "import numpy as np\n",
    "\n",
    "# Exploring\n",
    "import scipy.stats as stats\n",
    "\n",
    "# Visualizing\n",
    "%matplotlib inline\n",
    "import matplotlib.pyplot as plt\n",
    "import seaborn as sns\n",
    "\n",
    "# default pandas decimal number display format\n",
    "pd.options.display.float_format = '{:.2f}'.format\n",
    "\n",
    "# Acquiring\n",
    "from env import host, user, password \n",
    "import os\n",
    "\n",
    "import wrangle\n",
    "\n",
    "# Preparing -  split and scale\n",
    "from sklearn.model_selection import train_test_split\n",
    "from sklearn.preprocessing import MinMaxScaler"
   ]
  },
  {
   "cell_type": "markdown",
   "metadata": {},
   "source": [
    "## Acquire\n",
    "### 1. Acquire data from mySQL using the python module to connect and query. You will want to end with a single dataframe. Make sure to include: the logerror, all fields related to the properties that are available. You will end up using all the tables in the database.\n",
    "\n",
    "- **Be sure to do the correct join (inner, outer, etc.). We do not want to eliminate properties purely because they may have a null value for `airconditioningtypeid`.**\n",
    "- Only include properties with a transaction in 2017, and include only the last transaction for each properity (so no duplicate property ID's), along with zestimate error and date of transaction.\n",
    "- Only include properties that include a latitude and longitude value."
   ]
  },
  {
   "cell_type": "code",
   "execution_count": 2,
   "metadata": {},
   "outputs": [],
   "source": [
    "# defines function to create a sql url using personal credentials\n",
    "def get_connection(db, user=user, host=host, password=password):\n",
    "    '''\n",
    "    This function uses my info from my env file to\n",
    "    create a connection url to access the Codeup db.\n",
    "    '''\n",
    "    return f'mysql+pymysql://{user}:{password}@{host}/{db}'\n",
    "\n",
    "\n",
    "\n",
    "# defines function to get zillow data from MySQL and return as a pandas DataFrame\n",
    "def get_zillow_data():\n",
    "    '''\n",
    "    This function reads in the zillow data from the Codeup db,\n",
    "    selects all columns from the properties_2017 table,\n",
    "    joins all fields related to the properties,\n",
    "    acquires properties with transactions in 2017, \n",
    "    contains latitude and longitude values for the properties,\n",
    "    \n",
    "    and returns a pandas DataFrame with all columns.\n",
    "    '''\n",
    " \n",
    "    #create SQL query\n",
    "    sql_query = '''\n",
    "                SELECT * \n",
    "                FROM properties_2017\n",
    "                LEFT JOIN predictions_2017 USING (parcelid)\n",
    "                LEFT JOIN airconditioningtype USING (airconditioningtypeid)\n",
    "                LEFT JOIN architecturalstyletype USING (architecturalstyletypeid)\n",
    "                LEFT JOIN buildingclasstype USING (buildingclasstypeid)\n",
    "                LEFT JOIN heatingorsystemtype USING (heatingorsystemtypeid)\n",
    "                LEFT JOIN propertylandusetype USING (propertylandusetypeid)\n",
    "                LEFT JOIN storytype USING (storytypeid)\n",
    "                LEFT JOIN typeconstructiontype USING (typeconstructiontypeid)\n",
    "                WHERE latitude is not null \n",
    "                    AND longitude is not null\n",
    "                    AND transactiondate LIKE '2017%';\n",
    "                '''\n",
    "    \n",
    "    #read in dataframe from Codeup db\n",
    "    df = pd.read_sql(sql_query, get_connection('zillow'))\n",
    "    \n",
    "    return df\n",
    "\n",
    "\n",
    "\n",
    "# adds caching to get_zillow_data and checks for local filename (zillow_df.csv)\n",
    "# if file exists, uses the .csv file\n",
    "# if file doesn't exist, then produces SQL & pandas necessary to create a df, then write the df to a .csv file\n",
    "def cached_zillow(cached=False):\n",
    "    '''\n",
    "    This function reads in zillow data from Codeup database and writes data to\n",
    "    a csv file if cached == False or if cached == True reads in zillow df from\n",
    "    a csv file, returns df.\n",
    "    ''' \n",
    "    if cached == False or os.path.isfile('zillow_df.csv') == False:\n",
    "        \n",
    "        # Read fresh data from db into a DataFrame.\n",
    "        df = get_zillow_data()\n",
    "        \n",
    "        # Write DataFrame to a csv file.\n",
    "        df.to_csv('zillow_df.csv')\n",
    "        \n",
    "    else:\n",
    "        \n",
    "        # If csv file exists or cached == True, read in data from csv.\n",
    "        df = pd.read_csv('zillow_df.csv', index_col=0)\n",
    "        \n",
    "    return df"
   ]
  },
  {
   "cell_type": "code",
   "execution_count": 3,
   "metadata": {},
   "outputs": [
    {
     "data": {
      "text/html": [
       "<div>\n",
       "<style scoped>\n",
       "    .dataframe tbody tr th:only-of-type {\n",
       "        vertical-align: middle;\n",
       "    }\n",
       "\n",
       "    .dataframe tbody tr th {\n",
       "        vertical-align: top;\n",
       "    }\n",
       "\n",
       "    .dataframe thead th {\n",
       "        text-align: right;\n",
       "    }\n",
       "</style>\n",
       "<table border=\"1\" class=\"dataframe\">\n",
       "  <thead>\n",
       "    <tr style=\"text-align: right;\">\n",
       "      <th></th>\n",
       "      <th>typeconstructiontypeid</th>\n",
       "      <th>storytypeid</th>\n",
       "      <th>propertylandusetypeid</th>\n",
       "      <th>heatingorsystemtypeid</th>\n",
       "      <th>buildingclasstypeid</th>\n",
       "      <th>architecturalstyletypeid</th>\n",
       "      <th>airconditioningtypeid</th>\n",
       "      <th>parcelid</th>\n",
       "      <th>id</th>\n",
       "      <th>basementsqft</th>\n",
       "      <th>...</th>\n",
       "      <th>id</th>\n",
       "      <th>logerror</th>\n",
       "      <th>transactiondate</th>\n",
       "      <th>airconditioningdesc</th>\n",
       "      <th>architecturalstyledesc</th>\n",
       "      <th>buildingclassdesc</th>\n",
       "      <th>heatingorsystemdesc</th>\n",
       "      <th>propertylandusedesc</th>\n",
       "      <th>storydesc</th>\n",
       "      <th>typeconstructiondesc</th>\n",
       "    </tr>\n",
       "  </thead>\n",
       "  <tbody>\n",
       "    <tr>\n",
       "      <th>0</th>\n",
       "      <td>nan</td>\n",
       "      <td>nan</td>\n",
       "      <td>261.00</td>\n",
       "      <td>nan</td>\n",
       "      <td>nan</td>\n",
       "      <td>nan</td>\n",
       "      <td>nan</td>\n",
       "      <td>14297519</td>\n",
       "      <td>1727539</td>\n",
       "      <td>nan</td>\n",
       "      <td>...</td>\n",
       "      <td>0</td>\n",
       "      <td>0.03</td>\n",
       "      <td>2017-01-01</td>\n",
       "      <td>None</td>\n",
       "      <td>None</td>\n",
       "      <td>None</td>\n",
       "      <td>None</td>\n",
       "      <td>Single Family Residential</td>\n",
       "      <td>None</td>\n",
       "      <td>None</td>\n",
       "    </tr>\n",
       "    <tr>\n",
       "      <th>1</th>\n",
       "      <td>nan</td>\n",
       "      <td>nan</td>\n",
       "      <td>261.00</td>\n",
       "      <td>nan</td>\n",
       "      <td>nan</td>\n",
       "      <td>nan</td>\n",
       "      <td>nan</td>\n",
       "      <td>17052889</td>\n",
       "      <td>1387261</td>\n",
       "      <td>nan</td>\n",
       "      <td>...</td>\n",
       "      <td>1</td>\n",
       "      <td>0.06</td>\n",
       "      <td>2017-01-01</td>\n",
       "      <td>None</td>\n",
       "      <td>None</td>\n",
       "      <td>None</td>\n",
       "      <td>None</td>\n",
       "      <td>Single Family Residential</td>\n",
       "      <td>None</td>\n",
       "      <td>None</td>\n",
       "    </tr>\n",
       "  </tbody>\n",
       "</table>\n",
       "<p>2 rows × 69 columns</p>\n",
       "</div>"
      ],
      "text/plain": [
       "   typeconstructiontypeid  storytypeid  propertylandusetypeid  \\\n",
       "0                     nan          nan                 261.00   \n",
       "1                     nan          nan                 261.00   \n",
       "\n",
       "   heatingorsystemtypeid  buildingclasstypeid  architecturalstyletypeid  \\\n",
       "0                    nan                  nan                       nan   \n",
       "1                    nan                  nan                       nan   \n",
       "\n",
       "   airconditioningtypeid  parcelid       id  basementsqft  ...  id  logerror  \\\n",
       "0                    nan  14297519  1727539           nan  ...   0      0.03   \n",
       "1                    nan  17052889  1387261           nan  ...   1      0.06   \n",
       "\n",
       "   transactiondate  airconditioningdesc  architecturalstyledesc  \\\n",
       "0       2017-01-01                 None                    None   \n",
       "1       2017-01-01                 None                    None   \n",
       "\n",
       "   buildingclassdesc  heatingorsystemdesc        propertylandusedesc  \\\n",
       "0               None                 None  Single Family Residential   \n",
       "1               None                 None  Single Family Residential   \n",
       "\n",
       "   storydesc  typeconstructiondesc  \n",
       "0       None                  None  \n",
       "1       None                  None  \n",
       "\n",
       "[2 rows x 69 columns]"
      ]
     },
     "execution_count": 3,
     "metadata": {},
     "output_type": "execute_result"
    }
   ],
   "source": [
    "df = get_zillow_data()\n",
    "df.head(2)"
   ]
  },
  {
   "cell_type": "code",
   "execution_count": 6,
   "metadata": {},
   "outputs": [
    {
     "data": {
      "text/html": [
       "<div>\n",
       "<style scoped>\n",
       "    .dataframe tbody tr th:only-of-type {\n",
       "        vertical-align: middle;\n",
       "    }\n",
       "\n",
       "    .dataframe tbody tr th {\n",
       "        vertical-align: top;\n",
       "    }\n",
       "\n",
       "    .dataframe thead th {\n",
       "        text-align: right;\n",
       "    }\n",
       "</style>\n",
       "<table border=\"1\" class=\"dataframe\">\n",
       "  <thead>\n",
       "    <tr style=\"text-align: right;\">\n",
       "      <th></th>\n",
       "      <th>typeconstructiontypeid</th>\n",
       "      <th>storytypeid</th>\n",
       "      <th>propertylandusetypeid</th>\n",
       "      <th>heatingorsystemtypeid</th>\n",
       "      <th>buildingclasstypeid</th>\n",
       "      <th>architecturalstyletypeid</th>\n",
       "      <th>airconditioningtypeid</th>\n",
       "      <th>parcelid</th>\n",
       "      <th>id</th>\n",
       "      <th>basementsqft</th>\n",
       "      <th>...</th>\n",
       "      <th>id.1</th>\n",
       "      <th>logerror</th>\n",
       "      <th>transactiondate</th>\n",
       "      <th>airconditioningdesc</th>\n",
       "      <th>architecturalstyledesc</th>\n",
       "      <th>buildingclassdesc</th>\n",
       "      <th>heatingorsystemdesc</th>\n",
       "      <th>propertylandusedesc</th>\n",
       "      <th>storydesc</th>\n",
       "      <th>typeconstructiondesc</th>\n",
       "    </tr>\n",
       "  </thead>\n",
       "  <tbody>\n",
       "    <tr>\n",
       "      <th>0</th>\n",
       "      <td>nan</td>\n",
       "      <td>nan</td>\n",
       "      <td>261.00</td>\n",
       "      <td>nan</td>\n",
       "      <td>nan</td>\n",
       "      <td>nan</td>\n",
       "      <td>nan</td>\n",
       "      <td>14297519</td>\n",
       "      <td>1727539</td>\n",
       "      <td>nan</td>\n",
       "      <td>...</td>\n",
       "      <td>0</td>\n",
       "      <td>0.03</td>\n",
       "      <td>2017-01-01</td>\n",
       "      <td>NaN</td>\n",
       "      <td>NaN</td>\n",
       "      <td>NaN</td>\n",
       "      <td>NaN</td>\n",
       "      <td>Single Family Residential</td>\n",
       "      <td>NaN</td>\n",
       "      <td>NaN</td>\n",
       "    </tr>\n",
       "    <tr>\n",
       "      <th>1</th>\n",
       "      <td>nan</td>\n",
       "      <td>nan</td>\n",
       "      <td>261.00</td>\n",
       "      <td>nan</td>\n",
       "      <td>nan</td>\n",
       "      <td>nan</td>\n",
       "      <td>nan</td>\n",
       "      <td>17052889</td>\n",
       "      <td>1387261</td>\n",
       "      <td>nan</td>\n",
       "      <td>...</td>\n",
       "      <td>1</td>\n",
       "      <td>0.06</td>\n",
       "      <td>2017-01-01</td>\n",
       "      <td>NaN</td>\n",
       "      <td>NaN</td>\n",
       "      <td>NaN</td>\n",
       "      <td>NaN</td>\n",
       "      <td>Single Family Residential</td>\n",
       "      <td>NaN</td>\n",
       "      <td>NaN</td>\n",
       "    </tr>\n",
       "  </tbody>\n",
       "</table>\n",
       "<p>2 rows × 69 columns</p>\n",
       "</div>"
      ],
      "text/plain": [
       "   typeconstructiontypeid  storytypeid  propertylandusetypeid  \\\n",
       "0                     nan          nan                 261.00   \n",
       "1                     nan          nan                 261.00   \n",
       "\n",
       "   heatingorsystemtypeid  buildingclasstypeid  architecturalstyletypeid  \\\n",
       "0                    nan                  nan                       nan   \n",
       "1                    nan                  nan                       nan   \n",
       "\n",
       "   airconditioningtypeid  parcelid       id  basementsqft  ...  id.1  \\\n",
       "0                    nan  14297519  1727539           nan  ...     0   \n",
       "1                    nan  17052889  1387261           nan  ...     1   \n",
       "\n",
       "   logerror  transactiondate  airconditioningdesc  architecturalstyledesc  \\\n",
       "0      0.03       2017-01-01                  NaN                     NaN   \n",
       "1      0.06       2017-01-01                  NaN                     NaN   \n",
       "\n",
       "   buildingclassdesc  heatingorsystemdesc        propertylandusedesc  \\\n",
       "0                NaN                  NaN  Single Family Residential   \n",
       "1                NaN                  NaN  Single Family Residential   \n",
       "\n",
       "   storydesc  typeconstructiondesc  \n",
       "0        NaN                   NaN  \n",
       "1        NaN                   NaN  \n",
       "\n",
       "[2 rows x 69 columns]"
      ]
     },
     "execution_count": 6,
     "metadata": {},
     "output_type": "execute_result"
    }
   ],
   "source": [
    "#if faster connection is desired, uncomment, and run the following code\n",
    "df = cached_zillow(cached=True)\n",
    "df.head(2)"
   ]
  },
  {
   "cell_type": "code",
   "execution_count": 71,
   "metadata": {},
   "outputs": [],
   "source": [
    "#alternate way from walkthrough\n",
    "\n",
    "# SQL query\n",
    "\n",
    "sql = \"\"\"\n",
    "SELECT prop.*, \n",
    "       pred.logerror, \n",
    "       pred.transactiondate, \n",
    "       air.airconditioningdesc, \n",
    "       arch.architecturalstyledesc, \n",
    "       build.buildingclassdesc, \n",
    "       heat.heatingorsystemdesc, \n",
    "       landuse.propertylandusedesc, \n",
    "       story.storydesc, \n",
    "       construct.typeconstructiondesc \n",
    "\n",
    "FROM   properties_2017 prop  \n",
    "       INNER JOIN (SELECT parcelid,\n",
    "       \t\t\t\t\t  logerror,\n",
    "                          Max(transactiondate) transactiondate \n",
    "                   FROM   predictions_2017 \n",
    "                   GROUP  BY parcelid, logerror) pred\n",
    "               USING (parcelid) \n",
    "       LEFT JOIN airconditioningtype air USING (airconditioningtypeid) \n",
    "       LEFT JOIN architecturalstyletype arch USING (architecturalstyletypeid) \n",
    "       LEFT JOIN buildingclasstype build USING (buildingclasstypeid) \n",
    "       LEFT JOIN heatingorsystemtype heat USING (heatingorsystemtypeid) \n",
    "       LEFT JOIN propertylandusetype landuse USING (propertylandusetypeid) \n",
    "       LEFT JOIN storytype story USING (storytypeid) \n",
    "       LEFT JOIN typeconstructiontype construct USING (typeconstructiontypeid) \n",
    "WHERE  prop.latitude IS NOT NULL \n",
    "       AND prop.longitude IS NOT NULL\n",
    "\"\"\"\n",
    "\n",
    "def get_db_url(database):\n",
    "    from env import host, user, password\n",
    "    url = f'mysql+pymysql://{user}:{password}@{host}/{database}'\n",
    "    return url\n",
    "\n",
    "# acquire zillow data using the query\n",
    "def get_zillow(sql):\n",
    "    url = get_db_url('zillow')\n",
    "    zillow_df = pd.read_sql(sql, url, index_col='id')\n",
    "    return zillow_df"
   ]
  },
  {
   "cell_type": "code",
   "execution_count": 72,
   "metadata": {},
   "outputs": [],
   "source": [
    "# get data from SQl and save as csv locally\n",
    "\n",
    "df = get_zillow(sql)\n",
    "df.to_csv(\"zillow.csv\")"
   ]
  },
  {
   "cell_type": "code",
   "execution_count": 73,
   "metadata": {},
   "outputs": [
    {
     "data": {
      "text/html": [
       "<div>\n",
       "<style scoped>\n",
       "    .dataframe tbody tr th:only-of-type {\n",
       "        vertical-align: middle;\n",
       "    }\n",
       "\n",
       "    .dataframe tbody tr th {\n",
       "        vertical-align: top;\n",
       "    }\n",
       "\n",
       "    .dataframe thead th {\n",
       "        text-align: right;\n",
       "    }\n",
       "</style>\n",
       "<table border=\"1\" class=\"dataframe\">\n",
       "  <thead>\n",
       "    <tr style=\"text-align: right;\">\n",
       "      <th></th>\n",
       "      <th>id</th>\n",
       "      <th>parcelid</th>\n",
       "      <th>airconditioningtypeid</th>\n",
       "      <th>architecturalstyletypeid</th>\n",
       "      <th>basementsqft</th>\n",
       "      <th>bathroomcnt</th>\n",
       "      <th>bedroomcnt</th>\n",
       "      <th>buildingclasstypeid</th>\n",
       "      <th>buildingqualitytypeid</th>\n",
       "      <th>calculatedbathnbr</th>\n",
       "      <th>...</th>\n",
       "      <th>censustractandblock</th>\n",
       "      <th>logerror</th>\n",
       "      <th>transactiondate</th>\n",
       "      <th>airconditioningdesc</th>\n",
       "      <th>architecturalstyledesc</th>\n",
       "      <th>buildingclassdesc</th>\n",
       "      <th>heatingorsystemdesc</th>\n",
       "      <th>propertylandusedesc</th>\n",
       "      <th>storydesc</th>\n",
       "      <th>typeconstructiondesc</th>\n",
       "    </tr>\n",
       "  </thead>\n",
       "  <tbody>\n",
       "    <tr>\n",
       "      <th>0</th>\n",
       "      <td>1087254</td>\n",
       "      <td>10711855</td>\n",
       "      <td>nan</td>\n",
       "      <td>nan</td>\n",
       "      <td>nan</td>\n",
       "      <td>2.00</td>\n",
       "      <td>3.00</td>\n",
       "      <td>nan</td>\n",
       "      <td>8.00</td>\n",
       "      <td>2.00</td>\n",
       "      <td>...</td>\n",
       "      <td>60371132321007.00</td>\n",
       "      <td>-0.01</td>\n",
       "      <td>2017-07-07</td>\n",
       "      <td>NaN</td>\n",
       "      <td>NaN</td>\n",
       "      <td>NaN</td>\n",
       "      <td>Central</td>\n",
       "      <td>Single Family Residential</td>\n",
       "      <td>NaN</td>\n",
       "      <td>NaN</td>\n",
       "    </tr>\n",
       "    <tr>\n",
       "      <th>1</th>\n",
       "      <td>1072280</td>\n",
       "      <td>10711877</td>\n",
       "      <td>1.00</td>\n",
       "      <td>nan</td>\n",
       "      <td>nan</td>\n",
       "      <td>2.00</td>\n",
       "      <td>4.00</td>\n",
       "      <td>nan</td>\n",
       "      <td>8.00</td>\n",
       "      <td>2.00</td>\n",
       "      <td>...</td>\n",
       "      <td>60371132321007.00</td>\n",
       "      <td>0.02</td>\n",
       "      <td>2017-08-29</td>\n",
       "      <td>Central</td>\n",
       "      <td>NaN</td>\n",
       "      <td>NaN</td>\n",
       "      <td>Central</td>\n",
       "      <td>Single Family Residential</td>\n",
       "      <td>NaN</td>\n",
       "      <td>NaN</td>\n",
       "    </tr>\n",
       "    <tr>\n",
       "      <th>2</th>\n",
       "      <td>1340933</td>\n",
       "      <td>10711888</td>\n",
       "      <td>1.00</td>\n",
       "      <td>nan</td>\n",
       "      <td>nan</td>\n",
       "      <td>2.00</td>\n",
       "      <td>4.00</td>\n",
       "      <td>nan</td>\n",
       "      <td>8.00</td>\n",
       "      <td>2.00</td>\n",
       "      <td>...</td>\n",
       "      <td>60371132321007.00</td>\n",
       "      <td>0.08</td>\n",
       "      <td>2017-04-04</td>\n",
       "      <td>Central</td>\n",
       "      <td>NaN</td>\n",
       "      <td>NaN</td>\n",
       "      <td>Central</td>\n",
       "      <td>Single Family Residential</td>\n",
       "      <td>NaN</td>\n",
       "      <td>NaN</td>\n",
       "    </tr>\n",
       "    <tr>\n",
       "      <th>3</th>\n",
       "      <td>1878109</td>\n",
       "      <td>10711910</td>\n",
       "      <td>nan</td>\n",
       "      <td>nan</td>\n",
       "      <td>nan</td>\n",
       "      <td>2.00</td>\n",
       "      <td>3.00</td>\n",
       "      <td>nan</td>\n",
       "      <td>8.00</td>\n",
       "      <td>2.00</td>\n",
       "      <td>...</td>\n",
       "      <td>60371132321008.00</td>\n",
       "      <td>-0.04</td>\n",
       "      <td>2017-03-17</td>\n",
       "      <td>NaN</td>\n",
       "      <td>NaN</td>\n",
       "      <td>NaN</td>\n",
       "      <td>Central</td>\n",
       "      <td>Single Family Residential</td>\n",
       "      <td>NaN</td>\n",
       "      <td>NaN</td>\n",
       "    </tr>\n",
       "    <tr>\n",
       "      <th>4</th>\n",
       "      <td>2190858</td>\n",
       "      <td>10711923</td>\n",
       "      <td>nan</td>\n",
       "      <td>nan</td>\n",
       "      <td>nan</td>\n",
       "      <td>2.00</td>\n",
       "      <td>4.00</td>\n",
       "      <td>nan</td>\n",
       "      <td>8.00</td>\n",
       "      <td>2.00</td>\n",
       "      <td>...</td>\n",
       "      <td>60371132321008.00</td>\n",
       "      <td>-0.01</td>\n",
       "      <td>2017-03-24</td>\n",
       "      <td>NaN</td>\n",
       "      <td>NaN</td>\n",
       "      <td>NaN</td>\n",
       "      <td>Central</td>\n",
       "      <td>Single Family Residential</td>\n",
       "      <td>NaN</td>\n",
       "      <td>NaN</td>\n",
       "    </tr>\n",
       "  </tbody>\n",
       "</table>\n",
       "<p>5 rows × 68 columns</p>\n",
       "</div>"
      ],
      "text/plain": [
       "        id  parcelid  airconditioningtypeid  architecturalstyletypeid  \\\n",
       "0  1087254  10711855                    nan                       nan   \n",
       "1  1072280  10711877                   1.00                       nan   \n",
       "2  1340933  10711888                   1.00                       nan   \n",
       "3  1878109  10711910                    nan                       nan   \n",
       "4  2190858  10711923                    nan                       nan   \n",
       "\n",
       "   basementsqft  bathroomcnt  bedroomcnt  buildingclasstypeid  \\\n",
       "0           nan         2.00        3.00                  nan   \n",
       "1           nan         2.00        4.00                  nan   \n",
       "2           nan         2.00        4.00                  nan   \n",
       "3           nan         2.00        3.00                  nan   \n",
       "4           nan         2.00        4.00                  nan   \n",
       "\n",
       "   buildingqualitytypeid  calculatedbathnbr  ...  censustractandblock  \\\n",
       "0                   8.00               2.00  ...    60371132321007.00   \n",
       "1                   8.00               2.00  ...    60371132321007.00   \n",
       "2                   8.00               2.00  ...    60371132321007.00   \n",
       "3                   8.00               2.00  ...    60371132321008.00   \n",
       "4                   8.00               2.00  ...    60371132321008.00   \n",
       "\n",
       "   logerror  transactiondate  airconditioningdesc  architecturalstyledesc  \\\n",
       "0     -0.01       2017-07-07                  NaN                     NaN   \n",
       "1      0.02       2017-08-29              Central                     NaN   \n",
       "2      0.08       2017-04-04              Central                     NaN   \n",
       "3     -0.04       2017-03-17                  NaN                     NaN   \n",
       "4     -0.01       2017-03-24                  NaN                     NaN   \n",
       "\n",
       "   buildingclassdesc  heatingorsystemdesc        propertylandusedesc  \\\n",
       "0                NaN              Central  Single Family Residential   \n",
       "1                NaN              Central  Single Family Residential   \n",
       "2                NaN              Central  Single Family Residential   \n",
       "3                NaN              Central  Single Family Residential   \n",
       "4                NaN              Central  Single Family Residential   \n",
       "\n",
       "   storydesc  typeconstructiondesc  \n",
       "0        NaN                   NaN  \n",
       "1        NaN                   NaN  \n",
       "2        NaN                   NaN  \n",
       "3        NaN                   NaN  \n",
       "4        NaN                   NaN  \n",
       "\n",
       "[5 rows x 68 columns]"
      ]
     },
     "execution_count": 73,
     "metadata": {},
     "output_type": "execute_result"
    }
   ],
   "source": [
    "# read the previously saved csv file\n",
    "\n",
    "df = pd.read_csv(\"zillow.csv\")\n",
    "df.head()"
   ]
  },
  {
   "cell_type": "markdown",
   "metadata": {},
   "source": [
    "### 2. Summarize your data (summary stats, info, dtypes, shape, distributions, value_counts, etc.)"
   ]
  },
  {
   "cell_type": "code",
   "execution_count": 74,
   "metadata": {},
   "outputs": [
    {
     "data": {
      "text/plain": [
       "(77575, 68)"
      ]
     },
     "execution_count": 74,
     "metadata": {},
     "output_type": "execute_result"
    }
   ],
   "source": [
    "#shape of df\n",
    "df.shape"
   ]
  },
  {
   "cell_type": "code",
   "execution_count": 75,
   "metadata": {},
   "outputs": [
    {
     "data": {
      "text/html": [
       "<div>\n",
       "<style scoped>\n",
       "    .dataframe tbody tr th:only-of-type {\n",
       "        vertical-align: middle;\n",
       "    }\n",
       "\n",
       "    .dataframe tbody tr th {\n",
       "        vertical-align: top;\n",
       "    }\n",
       "\n",
       "    .dataframe thead th {\n",
       "        text-align: right;\n",
       "    }\n",
       "</style>\n",
       "<table border=\"1\" class=\"dataframe\">\n",
       "  <thead>\n",
       "    <tr style=\"text-align: right;\">\n",
       "      <th></th>\n",
       "      <th>id</th>\n",
       "      <th>parcelid</th>\n",
       "      <th>airconditioningtypeid</th>\n",
       "      <th>architecturalstyletypeid</th>\n",
       "      <th>basementsqft</th>\n",
       "      <th>bathroomcnt</th>\n",
       "      <th>bedroomcnt</th>\n",
       "      <th>buildingclasstypeid</th>\n",
       "      <th>buildingqualitytypeid</th>\n",
       "      <th>calculatedbathnbr</th>\n",
       "      <th>...</th>\n",
       "      <th>numberofstories</th>\n",
       "      <th>fireplaceflag</th>\n",
       "      <th>structuretaxvaluedollarcnt</th>\n",
       "      <th>taxvaluedollarcnt</th>\n",
       "      <th>assessmentyear</th>\n",
       "      <th>landtaxvaluedollarcnt</th>\n",
       "      <th>taxamount</th>\n",
       "      <th>taxdelinquencyyear</th>\n",
       "      <th>censustractandblock</th>\n",
       "      <th>logerror</th>\n",
       "    </tr>\n",
       "  </thead>\n",
       "  <tbody>\n",
       "    <tr>\n",
       "      <th>count</th>\n",
       "      <td>77575.00</td>\n",
       "      <td>77575.00</td>\n",
       "      <td>25006.00</td>\n",
       "      <td>206.00</td>\n",
       "      <td>50.00</td>\n",
       "      <td>77575.00</td>\n",
       "      <td>77575.00</td>\n",
       "      <td>15.00</td>\n",
       "      <td>49809.00</td>\n",
       "      <td>76960.00</td>\n",
       "      <td>...</td>\n",
       "      <td>17596.00</td>\n",
       "      <td>172.00</td>\n",
       "      <td>77460.00</td>\n",
       "      <td>77574.00</td>\n",
       "      <td>77575.00</td>\n",
       "      <td>77573.00</td>\n",
       "      <td>77570.00</td>\n",
       "      <td>2900.00</td>\n",
       "      <td>77328.00</td>\n",
       "      <td>77575.00</td>\n",
       "    </tr>\n",
       "    <tr>\n",
       "      <th>mean</th>\n",
       "      <td>1495352.00</td>\n",
       "      <td>13006298.98</td>\n",
       "      <td>1.81</td>\n",
       "      <td>7.39</td>\n",
       "      <td>679.72</td>\n",
       "      <td>2.30</td>\n",
       "      <td>3.05</td>\n",
       "      <td>3.93</td>\n",
       "      <td>6.53</td>\n",
       "      <td>2.32</td>\n",
       "      <td>...</td>\n",
       "      <td>1.43</td>\n",
       "      <td>1.00</td>\n",
       "      <td>189281.45</td>\n",
       "      <td>490144.70</td>\n",
       "      <td>2016.00</td>\n",
       "      <td>301145.30</td>\n",
       "      <td>5995.82</td>\n",
       "      <td>14.09</td>\n",
       "      <td>60496658430262.86</td>\n",
       "      <td>0.02</td>\n",
       "    </tr>\n",
       "    <tr>\n",
       "      <th>std</th>\n",
       "      <td>860970.27</td>\n",
       "      <td>3478020.75</td>\n",
       "      <td>2.97</td>\n",
       "      <td>2.73</td>\n",
       "      <td>689.70</td>\n",
       "      <td>1.00</td>\n",
       "      <td>1.14</td>\n",
       "      <td>0.26</td>\n",
       "      <td>1.72</td>\n",
       "      <td>0.98</td>\n",
       "      <td>...</td>\n",
       "      <td>0.54</td>\n",
       "      <td>0.00</td>\n",
       "      <td>230413.73</td>\n",
       "      <td>653802.18</td>\n",
       "      <td>0.00</td>\n",
       "      <td>492728.73</td>\n",
       "      <td>7628.87</td>\n",
       "      <td>2.18</td>\n",
       "      <td>1533375678743.79</td>\n",
       "      <td>0.17</td>\n",
       "    </tr>\n",
       "    <tr>\n",
       "      <th>min</th>\n",
       "      <td>349.00</td>\n",
       "      <td>10711855.00</td>\n",
       "      <td>1.00</td>\n",
       "      <td>2.00</td>\n",
       "      <td>38.00</td>\n",
       "      <td>0.00</td>\n",
       "      <td>0.00</td>\n",
       "      <td>3.00</td>\n",
       "      <td>1.00</td>\n",
       "      <td>1.00</td>\n",
       "      <td>...</td>\n",
       "      <td>1.00</td>\n",
       "      <td>1.00</td>\n",
       "      <td>44.00</td>\n",
       "      <td>1000.00</td>\n",
       "      <td>2016.00</td>\n",
       "      <td>161.00</td>\n",
       "      <td>19.92</td>\n",
       "      <td>3.00</td>\n",
       "      <td>60371011101000.00</td>\n",
       "      <td>-4.66</td>\n",
       "    </tr>\n",
       "    <tr>\n",
       "      <th>25%</th>\n",
       "      <td>752105.00</td>\n",
       "      <td>11538198.00</td>\n",
       "      <td>1.00</td>\n",
       "      <td>7.00</td>\n",
       "      <td>273.00</td>\n",
       "      <td>2.00</td>\n",
       "      <td>2.00</td>\n",
       "      <td>4.00</td>\n",
       "      <td>6.00</td>\n",
       "      <td>2.00</td>\n",
       "      <td>...</td>\n",
       "      <td>1.00</td>\n",
       "      <td>1.00</td>\n",
       "      <td>84182.00</td>\n",
       "      <td>206898.50</td>\n",
       "      <td>2016.00</td>\n",
       "      <td>85293.00</td>\n",
       "      <td>2712.63</td>\n",
       "      <td>14.00</td>\n",
       "      <td>60373109004005.00</td>\n",
       "      <td>-0.02</td>\n",
       "    </tr>\n",
       "    <tr>\n",
       "      <th>50%</th>\n",
       "      <td>1498195.00</td>\n",
       "      <td>12530531.00</td>\n",
       "      <td>1.00</td>\n",
       "      <td>7.00</td>\n",
       "      <td>515.00</td>\n",
       "      <td>2.00</td>\n",
       "      <td>3.00</td>\n",
       "      <td>4.00</td>\n",
       "      <td>6.00</td>\n",
       "      <td>2.00</td>\n",
       "      <td>...</td>\n",
       "      <td>1.00</td>\n",
       "      <td>1.00</td>\n",
       "      <td>136404.50</td>\n",
       "      <td>358878.50</td>\n",
       "      <td>2016.00</td>\n",
       "      <td>203174.00</td>\n",
       "      <td>4448.26</td>\n",
       "      <td>15.00</td>\n",
       "      <td>60376032001020.00</td>\n",
       "      <td>0.01</td>\n",
       "    </tr>\n",
       "    <tr>\n",
       "      <th>75%</th>\n",
       "      <td>2240715.00</td>\n",
       "      <td>14211235.50</td>\n",
       "      <td>1.00</td>\n",
       "      <td>7.00</td>\n",
       "      <td>796.50</td>\n",
       "      <td>3.00</td>\n",
       "      <td>4.00</td>\n",
       "      <td>4.00</td>\n",
       "      <td>8.00</td>\n",
       "      <td>3.00</td>\n",
       "      <td>...</td>\n",
       "      <td>2.00</td>\n",
       "      <td>1.00</td>\n",
       "      <td>218734.00</td>\n",
       "      <td>569000.00</td>\n",
       "      <td>2016.00</td>\n",
       "      <td>366753.00</td>\n",
       "      <td>6926.78</td>\n",
       "      <td>15.00</td>\n",
       "      <td>60590423251007.00</td>\n",
       "      <td>0.04</td>\n",
       "    </tr>\n",
       "    <tr>\n",
       "      <th>max</th>\n",
       "      <td>2982274.00</td>\n",
       "      <td>167689317.00</td>\n",
       "      <td>13.00</td>\n",
       "      <td>21.00</td>\n",
       "      <td>3560.00</td>\n",
       "      <td>18.00</td>\n",
       "      <td>16.00</td>\n",
       "      <td>4.00</td>\n",
       "      <td>12.00</td>\n",
       "      <td>18.00</td>\n",
       "      <td>...</td>\n",
       "      <td>6.00</td>\n",
       "      <td>1.00</td>\n",
       "      <td>11421790.00</td>\n",
       "      <td>49061236.00</td>\n",
       "      <td>2016.00</td>\n",
       "      <td>48952198.00</td>\n",
       "      <td>586639.30</td>\n",
       "      <td>99.00</td>\n",
       "      <td>483030105084015.00</td>\n",
       "      <td>5.26</td>\n",
       "    </tr>\n",
       "  </tbody>\n",
       "</table>\n",
       "<p>8 rows × 57 columns</p>\n",
       "</div>"
      ],
      "text/plain": [
       "              id     parcelid  airconditioningtypeid  \\\n",
       "count   77575.00     77575.00               25006.00   \n",
       "mean  1495352.00  13006298.98                   1.81   \n",
       "std    860970.27   3478020.75                   2.97   \n",
       "min       349.00  10711855.00                   1.00   \n",
       "25%    752105.00  11538198.00                   1.00   \n",
       "50%   1498195.00  12530531.00                   1.00   \n",
       "75%   2240715.00  14211235.50                   1.00   \n",
       "max   2982274.00 167689317.00                  13.00   \n",
       "\n",
       "       architecturalstyletypeid  basementsqft  bathroomcnt  bedroomcnt  \\\n",
       "count                    206.00         50.00     77575.00    77575.00   \n",
       "mean                       7.39        679.72         2.30        3.05   \n",
       "std                        2.73        689.70         1.00        1.14   \n",
       "min                        2.00         38.00         0.00        0.00   \n",
       "25%                        7.00        273.00         2.00        2.00   \n",
       "50%                        7.00        515.00         2.00        3.00   \n",
       "75%                        7.00        796.50         3.00        4.00   \n",
       "max                       21.00       3560.00        18.00       16.00   \n",
       "\n",
       "       buildingclasstypeid  buildingqualitytypeid  calculatedbathnbr  ...  \\\n",
       "count                15.00               49809.00           76960.00  ...   \n",
       "mean                  3.93                   6.53               2.32  ...   \n",
       "std                   0.26                   1.72               0.98  ...   \n",
       "min                   3.00                   1.00               1.00  ...   \n",
       "25%                   4.00                   6.00               2.00  ...   \n",
       "50%                   4.00                   6.00               2.00  ...   \n",
       "75%                   4.00                   8.00               3.00  ...   \n",
       "max                   4.00                  12.00              18.00  ...   \n",
       "\n",
       "       numberofstories  fireplaceflag  structuretaxvaluedollarcnt  \\\n",
       "count         17596.00         172.00                    77460.00   \n",
       "mean              1.43           1.00                   189281.45   \n",
       "std               0.54           0.00                   230413.73   \n",
       "min               1.00           1.00                       44.00   \n",
       "25%               1.00           1.00                    84182.00   \n",
       "50%               1.00           1.00                   136404.50   \n",
       "75%               2.00           1.00                   218734.00   \n",
       "max               6.00           1.00                 11421790.00   \n",
       "\n",
       "       taxvaluedollarcnt  assessmentyear  landtaxvaluedollarcnt  taxamount  \\\n",
       "count           77574.00        77575.00               77573.00   77570.00   \n",
       "mean           490144.70         2016.00              301145.30    5995.82   \n",
       "std            653802.18            0.00              492728.73    7628.87   \n",
       "min              1000.00         2016.00                 161.00      19.92   \n",
       "25%            206898.50         2016.00               85293.00    2712.63   \n",
       "50%            358878.50         2016.00              203174.00    4448.26   \n",
       "75%            569000.00         2016.00              366753.00    6926.78   \n",
       "max          49061236.00         2016.00            48952198.00  586639.30   \n",
       "\n",
       "       taxdelinquencyyear  censustractandblock  logerror  \n",
       "count             2900.00             77328.00  77575.00  \n",
       "mean                14.09    60496658430262.86      0.02  \n",
       "std                  2.18     1533375678743.79      0.17  \n",
       "min                  3.00    60371011101000.00     -4.66  \n",
       "25%                 14.00    60373109004005.00     -0.02  \n",
       "50%                 15.00    60376032001020.00      0.01  \n",
       "75%                 15.00    60590423251007.00      0.04  \n",
       "max                 99.00   483030105084015.00      5.26  \n",
       "\n",
       "[8 rows x 57 columns]"
      ]
     },
     "execution_count": 75,
     "metadata": {},
     "output_type": "execute_result"
    }
   ],
   "source": [
    "#summary states\n",
    "df.describe()"
   ]
  },
  {
   "cell_type": "code",
   "execution_count": 76,
   "metadata": {},
   "outputs": [
    {
     "name": "stdout",
     "output_type": "stream",
     "text": [
      "<class 'pandas.core.frame.DataFrame'>\n",
      "RangeIndex: 77575 entries, 0 to 77574\n",
      "Data columns (total 68 columns):\n",
      " #   Column                        Non-Null Count  Dtype  \n",
      "---  ------                        --------------  -----  \n",
      " 0   id                            77575 non-null  int64  \n",
      " 1   parcelid                      77575 non-null  int64  \n",
      " 2   airconditioningtypeid         25006 non-null  float64\n",
      " 3   architecturalstyletypeid      206 non-null    float64\n",
      " 4   basementsqft                  50 non-null     float64\n",
      " 5   bathroomcnt                   77575 non-null  float64\n",
      " 6   bedroomcnt                    77575 non-null  float64\n",
      " 7   buildingclasstypeid           15 non-null     float64\n",
      " 8   buildingqualitytypeid         49809 non-null  float64\n",
      " 9   calculatedbathnbr             76960 non-null  float64\n",
      " 10  decktypeid                    614 non-null    float64\n",
      " 11  finishedfloor1squarefeet      6035 non-null   float64\n",
      " 12  calculatedfinishedsquarefeet  77375 non-null  float64\n",
      " 13  finishedsquarefeet12          73920 non-null  float64\n",
      " 14  finishedsquarefeet13          42 non-null     float64\n",
      " 15  finishedsquarefeet15          3027 non-null   float64\n",
      " 16  finishedsquarefeet50          6035 non-null   float64\n",
      " 17  finishedsquarefeet6           386 non-null    float64\n",
      " 18  fips                          77575 non-null  float64\n",
      " 19  fireplacecnt                  8287 non-null   float64\n",
      " 20  fullbathcnt                   76960 non-null  float64\n",
      " 21  garagecarcnt                  25517 non-null  float64\n",
      " 22  garagetotalsqft               25517 non-null  float64\n",
      " 23  hashottuborspa                1539 non-null   float64\n",
      " 24  heatingorsystemtypeid         49570 non-null  float64\n",
      " 25  latitude                      77575 non-null  float64\n",
      " 26  longitude                     77575 non-null  float64\n",
      " 27  lotsizesquarefeet             69318 non-null  float64\n",
      " 28  poolcnt                       16173 non-null  float64\n",
      " 29  poolsizesum                   869 non-null    float64\n",
      " 30  pooltypeid10                  465 non-null    float64\n",
      " 31  pooltypeid2                   1074 non-null   float64\n",
      " 32  pooltypeid7                   15078 non-null  float64\n",
      " 33  propertycountylandusecode     77575 non-null  object \n",
      " 34  propertylandusetypeid         77575 non-null  float64\n",
      " 35  propertyzoningdesc            50475 non-null  object \n",
      " 36  rawcensustractandblock        77575 non-null  float64\n",
      " 37  regionidcity                  76103 non-null  float64\n",
      " 38  regionidcounty                77575 non-null  float64\n",
      " 39  regionidneighborhood          30973 non-null  float64\n",
      " 40  regionidzip                   77525 non-null  float64\n",
      " 41  roomcnt                       77575 non-null  float64\n",
      " 42  storytypeid                   50 non-null     float64\n",
      " 43  threequarterbathnbr           10105 non-null  float64\n",
      " 44  typeconstructiontypeid        222 non-null    float64\n",
      " 45  unitcnt                       50703 non-null  float64\n",
      " 46  yardbuildingsqft17            2393 non-null   float64\n",
      " 47  yardbuildingsqft26            70 non-null     float64\n",
      " 48  yearbuilt                     77306 non-null  float64\n",
      " 49  numberofstories               17596 non-null  float64\n",
      " 50  fireplaceflag                 172 non-null    float64\n",
      " 51  structuretaxvaluedollarcnt    77460 non-null  float64\n",
      " 52  taxvaluedollarcnt             77574 non-null  float64\n",
      " 53  assessmentyear                77575 non-null  float64\n",
      " 54  landtaxvaluedollarcnt         77573 non-null  float64\n",
      " 55  taxamount                     77570 non-null  float64\n",
      " 56  taxdelinquencyflag            2900 non-null   object \n",
      " 57  taxdelinquencyyear            2900 non-null   float64\n",
      " 58  censustractandblock           77328 non-null  float64\n",
      " 59  logerror                      77575 non-null  float64\n",
      " 60  transactiondate               77575 non-null  object \n",
      " 61  airconditioningdesc           25006 non-null  object \n",
      " 62  architecturalstyledesc        206 non-null    object \n",
      " 63  buildingclassdesc             15 non-null     object \n",
      " 64  heatingorsystemdesc           49570 non-null  object \n",
      " 65  propertylandusedesc           77575 non-null  object \n",
      " 66  storydesc                     50 non-null     object \n",
      " 67  typeconstructiondesc          222 non-null    object \n",
      "dtypes: float64(55), int64(2), object(11)\n",
      "memory usage: 40.2+ MB\n"
     ]
    }
   ],
   "source": [
    "#info and dtypes\n",
    "df.info()"
   ]
  },
  {
   "cell_type": "code",
   "execution_count": 77,
   "metadata": {},
   "outputs": [
    {
     "data": {
      "text/plain": [
       "33    14817\n",
       "34    13357\n",
       "32    12606\n",
       "31     9911\n",
       "36     5793\n",
       "29     5285\n",
       "35     5163\n",
       "37     3630\n",
       "30     3465\n",
       "38     1932\n",
       "28      457\n",
       "27      316\n",
       "39      285\n",
       "40      230\n",
       "44       79\n",
       "26       65\n",
       "45       50\n",
       "41       29\n",
       "43       29\n",
       "42       26\n",
       "25       24\n",
       "24       13\n",
       "46        5\n",
       "48        3\n",
       "47        3\n",
       "23        2\n",
       "dtype: int64"
      ]
     },
     "execution_count": 77,
     "metadata": {},
     "output_type": "execute_result"
    }
   ],
   "source": [
    "#nulls value counts\n",
    "df.isnull().sum(axis = 1).value_counts()"
   ]
  },
  {
   "cell_type": "code",
   "execution_count": 78,
   "metadata": {},
   "outputs": [
    {
     "data": {
      "text/plain": [
       "buildingclassdesc           77560\n",
       "buildingclasstypeid         77560\n",
       "finishedsquarefeet13        77533\n",
       "basementsqft                77525\n",
       "storydesc                   77525\n",
       "storytypeid                 77525\n",
       "yardbuildingsqft26          77505\n",
       "fireplaceflag               77403\n",
       "architecturalstyledesc      77369\n",
       "architecturalstyletypeid    77369\n",
       "typeconstructiontypeid      77353\n",
       "typeconstructiondesc        77353\n",
       "finishedsquarefeet6         77189\n",
       "pooltypeid10                77110\n",
       "decktypeid                  76961\n",
       "poolsizesum                 76706\n",
       "pooltypeid2                 76501\n",
       "hashottuborspa              76036\n",
       "yardbuildingsqft17          75182\n",
       "taxdelinquencyflag          74675\n",
       "taxdelinquencyyear          74675\n",
       "finishedsquarefeet15        74548\n",
       "finishedsquarefeet50        71540\n",
       "finishedfloor1squarefeet    71540\n",
       "fireplacecnt                69288\n",
       "threequarterbathnbr         67470\n",
       "pooltypeid7                 62497\n",
       "poolcnt                     61402\n",
       "numberofstories             59979\n",
       "airconditioningtypeid       52569\n",
       "airconditioningdesc         52569\n",
       "garagecarcnt                52058\n",
       "garagetotalsqft             52058\n",
       "regionidneighborhood        46602\n",
       "heatingorsystemtypeid       28005\n",
       "heatingorsystemdesc         28005\n",
       "buildingqualitytypeid       27766\n",
       "propertyzoningdesc          27100\n",
       "unitcnt                     26872\n",
       "lotsizesquarefeet            8257\n",
       "finishedsquarefeet12         3655\n",
       "regionidcity                 1472\n",
       "calculatedbathnbr             615\n",
       "fullbathcnt                   615\n",
       "yearbuilt                     269\n",
       "dtype: int64"
      ]
     },
     "execution_count": 78,
     "metadata": {},
     "output_type": "execute_result"
    }
   ],
   "source": [
    "# look at nulls in each columns\n",
    "df.isnull().sum().sort_values(ascending = False)[:45]"
   ]
  },
  {
   "cell_type": "code",
   "execution_count": 79,
   "metadata": {},
   "outputs": [
    {
     "data": {
      "image/png": "[encoded data removed]",
      "text/plain": [
       "<Figure size 432x288 with 1 Axes>"
      ]
     },
     "metadata": {
      "needs_background": "light"
     },
     "output_type": "display_data"
    },
    {
     "data": {
      "image/png": "[encoded data removed]",
      "text/plain": [
       "<Figure size 432x288 with 1 Axes>"
      ]
     },
     "metadata": {
      "needs_background": "light"
     },
     "output_type": "display_data"
    },
    {
     "data": {
      "image/png": "[encoded data removed]",
      "text/plain": [
       "<Figure size 432x288 with 1 Axes>"
      ]
     },
     "metadata": {
      "needs_background": "light"
     },
     "output_type": "display_data"
    },
    {
     "data": {
      "image/png": "[encoded data removed]",
      "text/plain": [
       "<Figure size 432x288 with 1 Axes>"
      ]
     },
     "metadata": {
      "needs_background": "light"
     },
     "output_type": "display_data"
    },
    {
     "data": {
      "image/png": "[encoded data removed]",
      "text/plain": [
       "<Figure size 432x288 with 1 Axes>"
      ]
     },
     "metadata": {
      "needs_background": "light"
     },
     "output_type": "display_data"
    },
    {
     "data": {
      "image/png": "[encoded data removed]",
      "text/plain": [
       "<Figure size 432x288 with 1 Axes>"
      ]
     },
     "metadata": {
      "needs_background": "light"
     },
     "output_type": "display_data"
    },
    {
     "data": {
      "image/png": "[encoded data removed]",
      "text/plain": [
       "<Figure size 432x288 with 1 Axes>"
      ]
     },
     "metadata": {
      "needs_background": "light"
     },
     "output_type": "display_data"
    },
    {
     "data": {
      "image/png": "[encoded data removed]",
      "text/plain": [
       "<Figure size 432x288 with 1 Axes>"
      ]
     },
     "metadata": {
      "needs_background": "light"
     },
     "output_type": "display_data"
    },
    {
     "data": {
      "image/png": "[encoded data removed]",
      "text/plain": [
       "<Figure size 432x288 with 1 Axes>"
      ]
     },
     "metadata": {
      "needs_background": "light"
     },
     "output_type": "display_data"
    },
    {
     "data": {
      "image/png": "[encoded data removed]",
      "text/plain": [
       "<Figure size 432x288 with 1 Axes>"
      ]
     },
     "metadata": {
      "needs_background": "light"
     },
     "output_type": "display_data"
    },
    {
     "data": {
      "image/png": "[encoded data removed]",
      "text/plain": [
       "<Figure size 432x288 with 1 Axes>"
      ]
     },
     "metadata": {
      "needs_background": "light"
     },
     "output_type": "display_data"
    },
    {
     "data": {
      "image/png": "[encoded data removed]",
      "text/plain": [
       "<Figure size 432x288 with 1 Axes>"
      ]
     },
     "metadata": {
      "needs_background": "light"
     },
     "output_type": "display_data"
    },
    {
     "data": {
      "image/png": "[encoded data removed]",
      "text/plain": [
       "<Figure size 432x288 with 1 Axes>"
      ]
     },
     "metadata": {
      "needs_background": "light"
     },
     "output_type": "display_data"
    },
    {
     "data": {
      "image/png": "[encoded data removed]",
      "text/plain": [
       "<Figure size 432x288 with 1 Axes>"
      ]
     },
     "metadata": {
      "needs_background": "light"
     },
     "output_type": "display_data"
    },
    {
     "data": {
      "image/png": "[encoded data removed]",
      "text/plain": [
       "<Figure size 432x288 with 1 Axes>"
      ]
     },
     "metadata": {
      "needs_background": "light"
     },
     "output_type": "display_data"
    },
    {
     "data": {
      "image/png": "[encoded data removed]",
      "text/plain": [
       "<Figure size 432x288 with 1 Axes>"
      ]
     },
     "metadata": {
      "needs_background": "light"
     },
     "output_type": "display_data"
    },
    {
     "data": {
      "image/png": "[encoded data removed]",
      "text/plain": [
       "<Figure size 432x288 with 1 Axes>"
      ]
     },
     "metadata": {
      "needs_background": "light"
     },
     "output_type": "display_data"
    },
    {
     "data": {
      "image/png": "[encoded data removed]",
      "text/plain": [
       "<Figure size 432x288 with 1 Axes>"
      ]
     },
     "metadata": {
      "needs_background": "light"
     },
     "output_type": "display_data"
    },
    {
     "data": {
      "image/png": "[encoded data removed]",
      "text/plain": [
       "<Figure size 432x288 with 1 Axes>"
      ]
     },
     "metadata": {
      "needs_background": "light"
     },
     "output_type": "display_data"
    },
    {
     "data": {
      "image/png": "[encoded data removed]",
      "text/plain": [
       "<Figure size 432x288 with 1 Axes>"
      ]
     },
     "metadata": {
      "needs_background": "light"
     },
     "output_type": "display_data"
    },
    {
     "data": {
      "image/png": "[encoded data removed]",
      "text/plain": [
       "<Figure size 432x288 with 1 Axes>"
      ]
     },
     "metadata": {
      "needs_background": "light"
     },
     "output_type": "display_data"
    },
    {
     "data": {
      "image/png": "[encoded data removed]",
      "text/plain": [
       "<Figure size 432x288 with 1 Axes>"
      ]
     },
     "metadata": {
      "needs_background": "light"
     },
     "output_type": "display_data"
    },
    {
     "data": {
      "image/png": "[encoded data removed]",
      "text/plain": [
       "<Figure size 432x288 with 1 Axes>"
      ]
     },
     "metadata": {
      "needs_background": "light"
     },
     "output_type": "display_data"
    },
    {
     "data": {
      "image/png": "[encoded data removed]",
      "text/plain": [
       "<Figure size 432x288 with 1 Axes>"
      ]
     },
     "metadata": {
      "needs_background": "light"
     },
     "output_type": "display_data"
    },
    {
     "data": {
      "image/png": "[encoded data removed]",
      "text/plain": [
       "<Figure size 432x288 with 1 Axes>"
      ]
     },
     "metadata": {
      "needs_background": "light"
     },
     "output_type": "display_data"
    },
    {
     "data": {
      "image/png": "[encoded data removed]",
      "text/plain": [
       "<Figure size 432x288 with 1 Axes>"
      ]
     },
     "metadata": {
      "needs_background": "light"
     },
     "output_type": "display_data"
    },
    {
     "data": {
      "image/png": "[encoded data removed]",
      "text/plain": [
       "<Figure size 432x288 with 1 Axes>"
      ]
     },
     "metadata": {
      "needs_background": "light"
     },
     "output_type": "display_data"
    },
    {
     "data": {
      "image/png": "[encoded data removed]",
      "text/plain": [
       "<Figure size 432x288 with 1 Axes>"
      ]
     },
     "metadata": {
      "needs_background": "light"
     },
     "output_type": "display_data"
    },
    {
     "data": {
      "image/png": "[encoded data removed]",
      "text/plain": [
       "<Figure size 432x288 with 1 Axes>"
      ]
     },
     "metadata": {
      "needs_background": "light"
     },
     "output_type": "display_data"
    },
    {
     "data": {
      "image/png": "[encoded data removed]",
      "text/plain": [
       "<Figure size 432x288 with 1 Axes>"
      ]
     },
     "metadata": {
      "needs_background": "light"
     },
     "output_type": "display_data"
    },
    {
     "data": {
      "image/png": "[encoded data removed]",
      "text/plain": [
       "<Figure size 432x288 with 1 Axes>"
      ]
     },
     "metadata": {
      "needs_background": "light"
     },
     "output_type": "display_data"
    },
    {
     "data": {
      "image/png": "[encoded data removed]",
      "text/plain": [
       "<Figure size 432x288 with 1 Axes>"
      ]
     },
     "metadata": {
      "needs_background": "light"
     },
     "output_type": "display_data"
    },
    {
     "data": {
      "image/png": "[encoded data removed]",
      "text/plain": [
       "<Figure size 432x288 with 1 Axes>"
      ]
     },
     "metadata": {
      "needs_background": "light"
     },
     "output_type": "display_data"
    },
    {
     "data": {
      "image/png": "[encoded data removed]",
      "text/plain": [
       "<Figure size 432x288 with 1 Axes>"
      ]
     },
     "metadata": {
      "needs_background": "light"
     },
     "output_type": "display_data"
    },
    {
     "data": {
      "image/png": "[encoded data removed]",
      "text/plain": [
       "<Figure size 432x288 with 1 Axes>"
      ]
     },
     "metadata": {
      "needs_background": "light"
     },
     "output_type": "display_data"
    },
    {
     "data": {
      "image/png": "[encoded data removed]",
      "text/plain": [
       "<Figure size 432x288 with 1 Axes>"
      ]
     },
     "metadata": {
      "needs_background": "light"
     },
     "output_type": "display_data"
    },
    {
     "data": {
      "image/png": "[encoded data removed]",
      "text/plain": [
       "<Figure size 432x288 with 1 Axes>"
      ]
     },
     "metadata": {
      "needs_background": "light"
     },
     "output_type": "display_data"
    },
    {
     "data": {
      "image/png": "[encoded data removed]",
      "text/plain": [
       "<Figure size 432x288 with 1 Axes>"
      ]
     },
     "metadata": {
      "needs_background": "light"
     },
     "output_type": "display_data"
    },
    {
     "data": {
      "image/png": "[encoded data removed]",
      "text/plain": [
       "<Figure size 432x288 with 1 Axes>"
      ]
     },
     "metadata": {
      "needs_background": "light"
     },
     "output_type": "display_data"
    },
    {
     "data": {
      "image/png": "[encoded data removed]",
      "text/plain": [
       "<Figure size 432x288 with 1 Axes>"
      ]
     },
     "metadata": {
      "needs_background": "light"
     },
     "output_type": "display_data"
    },
    {
     "data": {
      "image/png": "[encoded data removed]",
      "text/plain": [
       "<Figure size 432x288 with 1 Axes>"
      ]
     },
     "metadata": {
      "needs_background": "light"
     },
     "output_type": "display_data"
    },
    {
     "data": {
      "image/png": "[encoded data removed]",
      "text/plain": [
       "<Figure size 432x288 with 1 Axes>"
      ]
     },
     "metadata": {
      "needs_background": "light"
     },
     "output_type": "display_data"
    },
    {
     "data": {
      "image/png": "[encoded data removed]",
      "text/plain": [
       "<Figure size 432x288 with 1 Axes>"
      ]
     },
     "metadata": {
      "needs_background": "light"
     },
     "output_type": "display_data"
    },
    {
     "data": {
      "image/png": "[encoded data removed]",
      "text/plain": [
       "<Figure size 432x288 with 1 Axes>"
      ]
     },
     "metadata": {
      "needs_background": "light"
     },
     "output_type": "display_data"
    },
    {
     "data": {
      "image/png": "[encoded data removed]",
      "text/plain": [
       "<Figure size 432x288 with 1 Axes>"
      ]
     },
     "metadata": {
      "needs_background": "light"
     },
     "output_type": "display_data"
    },
    {
     "data": {
      "image/png": "[encoded data removed]",
      "text/plain": [
       "<Figure size 432x288 with 1 Axes>"
      ]
     },
     "metadata": {
      "needs_background": "light"
     },
     "output_type": "display_data"
    },
    {
     "data": {
      "image/png": "[encoded data removed]",
      "text/plain": [
       "<Figure size 432x288 with 1 Axes>"
      ]
     },
     "metadata": {
      "needs_background": "light"
     },
     "output_type": "display_data"
    },
    {
     "data": {
      "image/png": "[encoded data removed]",
      "text/plain": [
       "<Figure size 432x288 with 1 Axes>"
      ]
     },
     "metadata": {
      "needs_background": "light"
     },
     "output_type": "display_data"
    },
    {
     "data": {
      "image/png": "[encoded data removed]",
      "text/plain": [
       "<Figure size 432x288 with 1 Axes>"
      ]
     },
     "metadata": {
      "needs_background": "light"
     },
     "output_type": "display_data"
    },
    {
     "data": {
      "image/png": "[encoded data removed]",
      "text/plain": [
       "<Figure size 432x288 with 1 Axes>"
      ]
     },
     "metadata": {
      "needs_background": "light"
     },
     "output_type": "display_data"
    },
    {
     "data": {
      "image/png": "[encoded data removed]",
      "text/plain": [
       "<Figure size 432x288 with 1 Axes>"
      ]
     },
     "metadata": {
      "needs_background": "light"
     },
     "output_type": "display_data"
    },
    {
     "data": {
      "image/png": "[encoded data removed]",
      "text/plain": [
       "<Figure size 432x288 with 1 Axes>"
      ]
     },
     "metadata": {
      "needs_background": "light"
     },
     "output_type": "display_data"
    },
    {
     "data": {
      "image/png": "[encoded data removed]",
      "text/plain": [
       "<Figure size 432x288 with 1 Axes>"
      ]
     },
     "metadata": {
      "needs_background": "light"
     },
     "output_type": "display_data"
    },
    {
     "data": {
      "image/png": "[encoded data removed]",
      "text/plain": [
       "<Figure size 432x288 with 1 Axes>"
      ]
     },
     "metadata": {
      "needs_background": "light"
     },
     "output_type": "display_data"
    },
    {
     "data": {
      "image/png": "[encoded data removed]",
      "text/plain": [
       "<Figure size 432x288 with 1 Axes>"
      ]
     },
     "metadata": {
      "needs_background": "light"
     },
     "output_type": "display_data"
    }
   ],
   "source": [
    "#distributions\n",
    "for col in df.columns:\n",
    "    if df[col].dtype != object and col != 'parcelid' and col != 'id':\n",
    "        plt.hist(df[col])\n",
    "        plt.title(col)\n",
    "        plt.show()"
   ]
  },
  {
   "cell_type": "markdown",
   "metadata": {},
   "source": [
    "### 3. Write a function that takes in a dataframe of observations and attributes and returns a dataframe where each row is an atttribute name, the first column is the number of rows with missing values for that attribute, and the second column is percent of total rows that have missing values for that attribute. Run the function and document takeaways from this on how you want to handle missing values."
   ]
  },
  {
   "cell_type": "code",
   "execution_count": 6,
   "metadata": {},
   "outputs": [
    {
     "data": {
      "text/html": [
       "<div>\n",
       "<style scoped>\n",
       "    .dataframe tbody tr th:only-of-type {\n",
       "        vertical-align: middle;\n",
       "    }\n",
       "\n",
       "    .dataframe tbody tr th {\n",
       "        vertical-align: top;\n",
       "    }\n",
       "\n",
       "    .dataframe thead th {\n",
       "        text-align: right;\n",
       "    }\n",
       "</style>\n",
       "<table border=\"1\" class=\"dataframe\">\n",
       "  <thead>\n",
       "    <tr style=\"text-align: right;\">\n",
       "      <th></th>\n",
       "      <th>num_rows_missing</th>\n",
       "      <th>pct_rows_missing</th>\n",
       "    </tr>\n",
       "  </thead>\n",
       "  <tbody>\n",
       "    <tr>\n",
       "      <th>parcelid</th>\n",
       "      <td>0</td>\n",
       "      <td>0.000000</td>\n",
       "    </tr>\n",
       "    <tr>\n",
       "      <th>airconditioningtypeid</th>\n",
       "      <td>29041</td>\n",
       "      <td>0.535486</td>\n",
       "    </tr>\n",
       "    <tr>\n",
       "      <th>architecturalstyletypeid</th>\n",
       "      <td>54232</td>\n",
       "      <td>0.999982</td>\n",
       "    </tr>\n",
       "  </tbody>\n",
       "</table>\n",
       "</div>"
      ],
      "text/plain": [
       "                          num_rows_missing  pct_rows_missing\n",
       "parcelid                                 0          0.000000\n",
       "airconditioningtypeid                29041          0.535486\n",
       "architecturalstyletypeid             54232          0.999982"
      ]
     },
     "execution_count": 6,
     "metadata": {},
     "output_type": "execute_result"
    }
   ],
   "source": [
    "pd.read_clipboard()"
   ]
  },
  {
   "cell_type": "code",
   "execution_count": 17,
   "metadata": {},
   "outputs": [
    {
     "data": {
      "text/plain": [
       "typeconstructiontypeid    77356\n",
       "storytypeid               77529\n",
       "propertylandusetypeid         0\n",
       "heatingorsystemtypeid     28008\n",
       "buildingclasstypeid       77564\n",
       "                          ...  \n",
       "buildingclassdesc         77564\n",
       "heatingorsystemdesc       28008\n",
       "propertylandusedesc           0\n",
       "storydesc                 77529\n",
       "typeconstructiondesc      77356\n",
       "Length: 69, dtype: int64"
      ]
     },
     "execution_count": 17,
     "metadata": {},
     "output_type": "execute_result"
    }
   ],
   "source": [
    "#breakdown step 1: get missing row values\n",
    "missing_row_value = df.isnull().sum()\n",
    "missing_row_value"
   ]
  },
  {
   "cell_type": "code",
   "execution_count": 18,
   "metadata": {},
   "outputs": [
    {
     "data": {
      "text/plain": [
       "typeconstructiontypeid   100.00\n",
       "storytypeid              100.00\n",
       "propertylandusetypeid      0.00\n",
       "heatingorsystemtypeid     36.00\n",
       "buildingclasstypeid      100.00\n",
       "                          ...  \n",
       "buildingclassdesc        100.00\n",
       "heatingorsystemdesc       36.00\n",
       "propertylandusedesc        0.00\n",
       "storydesc                100.00\n",
       "typeconstructiondesc     100.00\n",
       "Length: 69, dtype: float64"
      ]
     },
     "execution_count": 18,
     "metadata": {},
     "output_type": "execute_result"
    }
   ],
   "source": [
    "#breakdown step 2: get percentages of rows missing\n",
    "percent_row_missing = round(df.isnull().sum()/len(df),2)*100\n",
    "percent_row_missing"
   ]
  },
  {
   "cell_type": "code",
   "execution_count": 20,
   "metadata": {},
   "outputs": [
    {
     "data": {
      "text/html": [
       "<div>\n",
       "<style scoped>\n",
       "    .dataframe tbody tr th:only-of-type {\n",
       "        vertical-align: middle;\n",
       "    }\n",
       "\n",
       "    .dataframe tbody tr th {\n",
       "        vertical-align: top;\n",
       "    }\n",
       "\n",
       "    .dataframe thead th {\n",
       "        text-align: right;\n",
       "    }\n",
       "</style>\n",
       "<table border=\"1\" class=\"dataframe\">\n",
       "  <thead>\n",
       "    <tr style=\"text-align: right;\">\n",
       "      <th></th>\n",
       "      <th>num_rows_missing</th>\n",
       "      <th>pct_rows_missing</th>\n",
       "    </tr>\n",
       "  </thead>\n",
       "  <tbody>\n",
       "    <tr>\n",
       "      <th>typeconstructiontypeid</th>\n",
       "      <td>77356</td>\n",
       "      <td>100.00</td>\n",
       "    </tr>\n",
       "    <tr>\n",
       "      <th>storytypeid</th>\n",
       "      <td>77529</td>\n",
       "      <td>100.00</td>\n",
       "    </tr>\n",
       "    <tr>\n",
       "      <th>propertylandusetypeid</th>\n",
       "      <td>0</td>\n",
       "      <td>0.00</td>\n",
       "    </tr>\n",
       "    <tr>\n",
       "      <th>heatingorsystemtypeid</th>\n",
       "      <td>28008</td>\n",
       "      <td>36.00</td>\n",
       "    </tr>\n",
       "    <tr>\n",
       "      <th>buildingclasstypeid</th>\n",
       "      <td>77564</td>\n",
       "      <td>100.00</td>\n",
       "    </tr>\n",
       "    <tr>\n",
       "      <th>...</th>\n",
       "      <td>...</td>\n",
       "      <td>...</td>\n",
       "    </tr>\n",
       "    <tr>\n",
       "      <th>buildingclassdesc</th>\n",
       "      <td>77564</td>\n",
       "      <td>100.00</td>\n",
       "    </tr>\n",
       "    <tr>\n",
       "      <th>heatingorsystemdesc</th>\n",
       "      <td>28008</td>\n",
       "      <td>36.00</td>\n",
       "    </tr>\n",
       "    <tr>\n",
       "      <th>propertylandusedesc</th>\n",
       "      <td>0</td>\n",
       "      <td>0.00</td>\n",
       "    </tr>\n",
       "    <tr>\n",
       "      <th>storydesc</th>\n",
       "      <td>77529</td>\n",
       "      <td>100.00</td>\n",
       "    </tr>\n",
       "    <tr>\n",
       "      <th>typeconstructiondesc</th>\n",
       "      <td>77356</td>\n",
       "      <td>100.00</td>\n",
       "    </tr>\n",
       "  </tbody>\n",
       "</table>\n",
       "<p>69 rows × 2 columns</p>\n",
       "</div>"
      ],
      "text/plain": [
       "                        num_rows_missing  pct_rows_missing\n",
       "typeconstructiontypeid             77356            100.00\n",
       "storytypeid                        77529            100.00\n",
       "propertylandusetypeid                  0              0.00\n",
       "heatingorsystemtypeid              28008             36.00\n",
       "buildingclasstypeid                77564            100.00\n",
       "...                                  ...               ...\n",
       "buildingclassdesc                  77564            100.00\n",
       "heatingorsystemdesc                28008             36.00\n",
       "propertylandusedesc                    0              0.00\n",
       "storydesc                          77529            100.00\n",
       "typeconstructiondesc               77356            100.00\n",
       "\n",
       "[69 rows x 2 columns]"
      ]
     },
     "execution_count": 20,
     "metadata": {},
     "output_type": "execute_result"
    }
   ],
   "source": [
    "#finished function\n",
    "def missing_values(df):\n",
    "    \n",
    "    # Gives value counts of missing rows\n",
    "    missing_row_value = df.isnull().sum()\n",
    "    \n",
    "    # Gives the percentage of rows missing\n",
    "    percent_row_missing = round(df.isnull().sum()/len(df),2)*100\n",
    "    \n",
    "    # Creates a new df for the missing rows and percent missing\n",
    "    missing_df = pd.DataFrame({'num_rows_missing' : missing_row_value, 'pct_rows_missing' : percent_row_missing})\n",
    "    \n",
    "    return missing_df\n",
    "\n",
    "missing_values(df)"
   ]
  },
  {
   "cell_type": "code",
   "execution_count": 21,
   "metadata": {},
   "outputs": [],
   "source": [
    "#alternate\n",
    "def missing_zero_values(df):\n",
    "    '''\n",
    "    This function takes in a dataframe and counts number of Zero values and NULL values. \n",
    "    Returns a Table with counts and percentages of each value type.\n",
    "    '''\n",
    "    zero_val = (df == 0.00).astype(int).sum(axis=0)\n",
    "    mis_val = df.isnull().sum()\n",
    "    mis_val_percent = 100 * df.isnull().sum() / len(df)\n",
    "    mz_table = pd.concat([zero_val, mis_val, mis_val_percent], axis=1)\n",
    "    mz_table = mz_table.rename(\n",
    "    columns = {0 : 'Zero Values', 1 : 'NULL Values', 2 : '% of Total NULL Values'})\n",
    "    mz_table['Total Zero\\'s plus NULL Values'] = mz_table['Zero Values'] + mz_table['NULL Values']\n",
    "    mz_table['% Total Zero\\'s plus NULL Values'] = 100 * mz_table['Total Zero\\'s plus NULL Values'] / len(df)\n",
    "    mz_table['Data Type'] = df.dtypes\n",
    "    mz_table = mz_table[\n",
    "        mz_table.iloc[:,1] >= 0].sort_values(\n",
    "    '% of Total NULL Values', ascending=False).round(1)\n",
    "    print (\"Your selected dataframe has \" + str(df.shape[1]) + \" columns and \" + str(df.shape[0]) + \" Rows.\\n\"      \n",
    "        \"There are \" + str((mz_table['NULL Values'] != 0).sum()) +\n",
    "          \" columns that have NULL values.\")\n",
    "    #       mz_table.to_excel('D:/sampledata/missing_and_zero_values.xlsx', freeze_panes=(1,0), index = False)\n",
    "    return mz_table"
   ]
  },
  {
   "cell_type": "code",
   "execution_count": 23,
   "metadata": {},
   "outputs": [
    {
     "name": "stdout",
     "output_type": "stream",
     "text": [
      "Your selected dataframe has 69 columns and 77579 Rows.\n",
      "There are 52 columns that have NULL values.\n"
     ]
    },
    {
     "data": {
      "text/html": [
       "<div>\n",
       "<style scoped>\n",
       "    .dataframe tbody tr th:only-of-type {\n",
       "        vertical-align: middle;\n",
       "    }\n",
       "\n",
       "    .dataframe tbody tr th {\n",
       "        vertical-align: top;\n",
       "    }\n",
       "\n",
       "    .dataframe thead th {\n",
       "        text-align: right;\n",
       "    }\n",
       "</style>\n",
       "<table border=\"1\" class=\"dataframe\">\n",
       "  <thead>\n",
       "    <tr style=\"text-align: right;\">\n",
       "      <th></th>\n",
       "      <th>Zero Values</th>\n",
       "      <th>NULL Values</th>\n",
       "      <th>% of Total NULL Values</th>\n",
       "      <th>Total Zero's plus NULL Values</th>\n",
       "      <th>% Total Zero's plus NULL Values</th>\n",
       "      <th>Data Type</th>\n",
       "    </tr>\n",
       "  </thead>\n",
       "  <tbody>\n",
       "    <tr>\n",
       "      <th>buildingclassdesc</th>\n",
       "      <td>0</td>\n",
       "      <td>77564</td>\n",
       "      <td>100.00</td>\n",
       "      <td>77564</td>\n",
       "      <td>100.00</td>\n",
       "      <td>object</td>\n",
       "    </tr>\n",
       "    <tr>\n",
       "      <th>buildingclasstypeid</th>\n",
       "      <td>0</td>\n",
       "      <td>77564</td>\n",
       "      <td>100.00</td>\n",
       "      <td>77564</td>\n",
       "      <td>100.00</td>\n",
       "      <td>float64</td>\n",
       "    </tr>\n",
       "    <tr>\n",
       "      <th>finishedsquarefeet13</th>\n",
       "      <td>0</td>\n",
       "      <td>77537</td>\n",
       "      <td>99.90</td>\n",
       "      <td>77537</td>\n",
       "      <td>99.90</td>\n",
       "      <td>float64</td>\n",
       "    </tr>\n",
       "    <tr>\n",
       "      <th>storydesc</th>\n",
       "      <td>0</td>\n",
       "      <td>77529</td>\n",
       "      <td>99.90</td>\n",
       "      <td>77529</td>\n",
       "      <td>99.90</td>\n",
       "      <td>object</td>\n",
       "    </tr>\n",
       "    <tr>\n",
       "      <th>basementsqft</th>\n",
       "      <td>0</td>\n",
       "      <td>77529</td>\n",
       "      <td>99.90</td>\n",
       "      <td>77529</td>\n",
       "      <td>99.90</td>\n",
       "      <td>float64</td>\n",
       "    </tr>\n",
       "    <tr>\n",
       "      <th>...</th>\n",
       "      <td>...</td>\n",
       "      <td>...</td>\n",
       "      <td>...</td>\n",
       "      <td>...</td>\n",
       "      <td>...</td>\n",
       "      <td>...</td>\n",
       "    </tr>\n",
       "    <tr>\n",
       "      <th>id</th>\n",
       "      <td>0</td>\n",
       "      <td>0</td>\n",
       "      <td>0.00</td>\n",
       "      <td>0</td>\n",
       "      <td>0.00</td>\n",
       "      <td>int64</td>\n",
       "    </tr>\n",
       "    <tr>\n",
       "      <th>bathroomcnt</th>\n",
       "      <td>599</td>\n",
       "      <td>0</td>\n",
       "      <td>0.00</td>\n",
       "      <td>599</td>\n",
       "      <td>0.80</td>\n",
       "      <td>float64</td>\n",
       "    </tr>\n",
       "    <tr>\n",
       "      <th>roomcnt</th>\n",
       "      <td>59966</td>\n",
       "      <td>0</td>\n",
       "      <td>0.00</td>\n",
       "      <td>59966</td>\n",
       "      <td>77.30</td>\n",
       "      <td>float64</td>\n",
       "    </tr>\n",
       "    <tr>\n",
       "      <th>propertycountylandusecode</th>\n",
       "      <td>0</td>\n",
       "      <td>0</td>\n",
       "      <td>0.00</td>\n",
       "      <td>0</td>\n",
       "      <td>0.00</td>\n",
       "      <td>object</td>\n",
       "    </tr>\n",
       "    <tr>\n",
       "      <th>regionidcounty</th>\n",
       "      <td>0</td>\n",
       "      <td>0</td>\n",
       "      <td>0.00</td>\n",
       "      <td>0</td>\n",
       "      <td>0.00</td>\n",
       "      <td>float64</td>\n",
       "    </tr>\n",
       "  </tbody>\n",
       "</table>\n",
       "<p>69 rows × 6 columns</p>\n",
       "</div>"
      ],
      "text/plain": [
       "                           Zero Values  NULL Values  % of Total NULL Values  \\\n",
       "buildingclassdesc                    0        77564                  100.00   \n",
       "buildingclasstypeid                  0        77564                  100.00   \n",
       "finishedsquarefeet13                 0        77537                   99.90   \n",
       "storydesc                            0        77529                   99.90   \n",
       "basementsqft                         0        77529                   99.90   \n",
       "...                                ...          ...                     ...   \n",
       "id                                   0            0                    0.00   \n",
       "bathroomcnt                        599            0                    0.00   \n",
       "roomcnt                          59966            0                    0.00   \n",
       "propertycountylandusecode            0            0                    0.00   \n",
       "regionidcounty                       0            0                    0.00   \n",
       "\n",
       "                           Total Zero's plus NULL Values  \\\n",
       "buildingclassdesc                                  77564   \n",
       "buildingclasstypeid                                77564   \n",
       "finishedsquarefeet13                               77537   \n",
       "storydesc                                          77529   \n",
       "basementsqft                                       77529   \n",
       "...                                                  ...   \n",
       "id                                                     0   \n",
       "bathroomcnt                                          599   \n",
       "roomcnt                                            59966   \n",
       "propertycountylandusecode                              0   \n",
       "regionidcounty                                         0   \n",
       "\n",
       "                           % Total Zero's plus NULL Values Data Type  \n",
       "buildingclassdesc                                   100.00    object  \n",
       "buildingclasstypeid                                 100.00   float64  \n",
       "finishedsquarefeet13                                 99.90   float64  \n",
       "storydesc                                            99.90    object  \n",
       "basementsqft                                         99.90   float64  \n",
       "...                                                    ...       ...  \n",
       "id                                                    0.00     int64  \n",
       "bathroomcnt                                           0.80   float64  \n",
       "roomcnt                                              77.30   float64  \n",
       "propertycountylandusecode                             0.00    object  \n",
       "regionidcounty                                        0.00   float64  \n",
       "\n",
       "[69 rows x 6 columns]"
      ]
     },
     "execution_count": 23,
     "metadata": {},
     "output_type": "execute_result"
    }
   ],
   "source": [
    "missing_zero_values(df)"
   ]
  },
  {
   "cell_type": "code",
   "execution_count": 80,
   "metadata": {},
   "outputs": [
    {
     "data": {
      "text/plain": [
       "id                              0\n",
       "parcelid                        0\n",
       "airconditioningtypeid       52569\n",
       "architecturalstyletypeid    77369\n",
       "basementsqft                77525\n",
       "                            ...  \n",
       "buildingclassdesc           77560\n",
       "heatingorsystemdesc         28005\n",
       "propertylandusedesc             0\n",
       "storydesc                   77525\n",
       "typeconstructiondesc        77353\n",
       "Length: 68, dtype: int64"
      ]
     },
     "execution_count": 80,
     "metadata": {},
     "output_type": "execute_result"
    }
   ],
   "source": [
    "#alternate from ex walkthrough\n",
    "df.isnull().sum()"
   ]
  },
  {
   "cell_type": "code",
   "execution_count": 81,
   "metadata": {},
   "outputs": [
    {
     "data": {
      "text/plain": [
       "id                         0.00\n",
       "parcelid                   0.00\n",
       "airconditioningtypeid      0.68\n",
       "architecturalstyletypeid   1.00\n",
       "basementsqft               1.00\n",
       "                           ... \n",
       "buildingclassdesc          1.00\n",
       "heatingorsystemdesc        0.36\n",
       "propertylandusedesc        0.00\n",
       "storydesc                  1.00\n",
       "typeconstructiondesc       1.00\n",
       "Length: 68, dtype: float64"
      ]
     },
     "execution_count": 81,
     "metadata": {},
     "output_type": "execute_result"
    }
   ],
   "source": [
    "df.isnull().sum()/df.shape[0]"
   ]
  },
  {
   "cell_type": "code",
   "execution_count": 82,
   "metadata": {},
   "outputs": [],
   "source": [
    "def nulls_by_col(df):\n",
    "    num_missing = df.isnull().sum()\n",
    "    rows = df.shape[0]\n",
    "    pct_missing = num_missing / rows\n",
    "    cols_missing = pd.DataFrame({'number_missing_rows': num_missing, 'percent_rows_missing': pct_missing})\n",
    "    return cols_missing"
   ]
  },
  {
   "cell_type": "code",
   "execution_count": 83,
   "metadata": {},
   "outputs": [
    {
     "data": {
      "text/html": [
       "<div>\n",
       "<style scoped>\n",
       "    .dataframe tbody tr th:only-of-type {\n",
       "        vertical-align: middle;\n",
       "    }\n",
       "\n",
       "    .dataframe tbody tr th {\n",
       "        vertical-align: top;\n",
       "    }\n",
       "\n",
       "    .dataframe thead th {\n",
       "        text-align: right;\n",
       "    }\n",
       "</style>\n",
       "<table border=\"1\" class=\"dataframe\">\n",
       "  <thead>\n",
       "    <tr style=\"text-align: right;\">\n",
       "      <th></th>\n",
       "      <th>number_missing_rows</th>\n",
       "      <th>percent_rows_missing</th>\n",
       "    </tr>\n",
       "  </thead>\n",
       "  <tbody>\n",
       "    <tr>\n",
       "      <th>buildingclassdesc</th>\n",
       "      <td>77560</td>\n",
       "      <td>1.00</td>\n",
       "    </tr>\n",
       "    <tr>\n",
       "      <th>buildingclasstypeid</th>\n",
       "      <td>77560</td>\n",
       "      <td>1.00</td>\n",
       "    </tr>\n",
       "    <tr>\n",
       "      <th>finishedsquarefeet13</th>\n",
       "      <td>77533</td>\n",
       "      <td>1.00</td>\n",
       "    </tr>\n",
       "    <tr>\n",
       "      <th>storytypeid</th>\n",
       "      <td>77525</td>\n",
       "      <td>1.00</td>\n",
       "    </tr>\n",
       "    <tr>\n",
       "      <th>basementsqft</th>\n",
       "      <td>77525</td>\n",
       "      <td>1.00</td>\n",
       "    </tr>\n",
       "    <tr>\n",
       "      <th>storydesc</th>\n",
       "      <td>77525</td>\n",
       "      <td>1.00</td>\n",
       "    </tr>\n",
       "    <tr>\n",
       "      <th>yardbuildingsqft26</th>\n",
       "      <td>77505</td>\n",
       "      <td>1.00</td>\n",
       "    </tr>\n",
       "    <tr>\n",
       "      <th>fireplaceflag</th>\n",
       "      <td>77403</td>\n",
       "      <td>1.00</td>\n",
       "    </tr>\n",
       "    <tr>\n",
       "      <th>architecturalstyletypeid</th>\n",
       "      <td>77369</td>\n",
       "      <td>1.00</td>\n",
       "    </tr>\n",
       "    <tr>\n",
       "      <th>architecturalstyledesc</th>\n",
       "      <td>77369</td>\n",
       "      <td>1.00</td>\n",
       "    </tr>\n",
       "    <tr>\n",
       "      <th>typeconstructiondesc</th>\n",
       "      <td>77353</td>\n",
       "      <td>1.00</td>\n",
       "    </tr>\n",
       "    <tr>\n",
       "      <th>typeconstructiontypeid</th>\n",
       "      <td>77353</td>\n",
       "      <td>1.00</td>\n",
       "    </tr>\n",
       "    <tr>\n",
       "      <th>finishedsquarefeet6</th>\n",
       "      <td>77189</td>\n",
       "      <td>1.00</td>\n",
       "    </tr>\n",
       "    <tr>\n",
       "      <th>pooltypeid10</th>\n",
       "      <td>77110</td>\n",
       "      <td>0.99</td>\n",
       "    </tr>\n",
       "    <tr>\n",
       "      <th>decktypeid</th>\n",
       "      <td>76961</td>\n",
       "      <td>0.99</td>\n",
       "    </tr>\n",
       "    <tr>\n",
       "      <th>poolsizesum</th>\n",
       "      <td>76706</td>\n",
       "      <td>0.99</td>\n",
       "    </tr>\n",
       "    <tr>\n",
       "      <th>pooltypeid2</th>\n",
       "      <td>76501</td>\n",
       "      <td>0.99</td>\n",
       "    </tr>\n",
       "    <tr>\n",
       "      <th>hashottuborspa</th>\n",
       "      <td>76036</td>\n",
       "      <td>0.98</td>\n",
       "    </tr>\n",
       "    <tr>\n",
       "      <th>yardbuildingsqft17</th>\n",
       "      <td>75182</td>\n",
       "      <td>0.97</td>\n",
       "    </tr>\n",
       "    <tr>\n",
       "      <th>taxdelinquencyyear</th>\n",
       "      <td>74675</td>\n",
       "      <td>0.96</td>\n",
       "    </tr>\n",
       "    <tr>\n",
       "      <th>taxdelinquencyflag</th>\n",
       "      <td>74675</td>\n",
       "      <td>0.96</td>\n",
       "    </tr>\n",
       "    <tr>\n",
       "      <th>finishedsquarefeet15</th>\n",
       "      <td>74548</td>\n",
       "      <td>0.96</td>\n",
       "    </tr>\n",
       "    <tr>\n",
       "      <th>finishedsquarefeet50</th>\n",
       "      <td>71540</td>\n",
       "      <td>0.92</td>\n",
       "    </tr>\n",
       "    <tr>\n",
       "      <th>finishedfloor1squarefeet</th>\n",
       "      <td>71540</td>\n",
       "      <td>0.92</td>\n",
       "    </tr>\n",
       "    <tr>\n",
       "      <th>fireplacecnt</th>\n",
       "      <td>69288</td>\n",
       "      <td>0.89</td>\n",
       "    </tr>\n",
       "    <tr>\n",
       "      <th>threequarterbathnbr</th>\n",
       "      <td>67470</td>\n",
       "      <td>0.87</td>\n",
       "    </tr>\n",
       "    <tr>\n",
       "      <th>pooltypeid7</th>\n",
       "      <td>62497</td>\n",
       "      <td>0.81</td>\n",
       "    </tr>\n",
       "    <tr>\n",
       "      <th>poolcnt</th>\n",
       "      <td>61402</td>\n",
       "      <td>0.79</td>\n",
       "    </tr>\n",
       "    <tr>\n",
       "      <th>numberofstories</th>\n",
       "      <td>59979</td>\n",
       "      <td>0.77</td>\n",
       "    </tr>\n",
       "    <tr>\n",
       "      <th>airconditioningdesc</th>\n",
       "      <td>52569</td>\n",
       "      <td>0.68</td>\n",
       "    </tr>\n",
       "    <tr>\n",
       "      <th>airconditioningtypeid</th>\n",
       "      <td>52569</td>\n",
       "      <td>0.68</td>\n",
       "    </tr>\n",
       "    <tr>\n",
       "      <th>garagecarcnt</th>\n",
       "      <td>52058</td>\n",
       "      <td>0.67</td>\n",
       "    </tr>\n",
       "    <tr>\n",
       "      <th>garagetotalsqft</th>\n",
       "      <td>52058</td>\n",
       "      <td>0.67</td>\n",
       "    </tr>\n",
       "    <tr>\n",
       "      <th>regionidneighborhood</th>\n",
       "      <td>46602</td>\n",
       "      <td>0.60</td>\n",
       "    </tr>\n",
       "    <tr>\n",
       "      <th>heatingorsystemtypeid</th>\n",
       "      <td>28005</td>\n",
       "      <td>0.36</td>\n",
       "    </tr>\n",
       "    <tr>\n",
       "      <th>heatingorsystemdesc</th>\n",
       "      <td>28005</td>\n",
       "      <td>0.36</td>\n",
       "    </tr>\n",
       "    <tr>\n",
       "      <th>buildingqualitytypeid</th>\n",
       "      <td>27766</td>\n",
       "      <td>0.36</td>\n",
       "    </tr>\n",
       "    <tr>\n",
       "      <th>propertyzoningdesc</th>\n",
       "      <td>27100</td>\n",
       "      <td>0.35</td>\n",
       "    </tr>\n",
       "    <tr>\n",
       "      <th>unitcnt</th>\n",
       "      <td>26872</td>\n",
       "      <td>0.35</td>\n",
       "    </tr>\n",
       "    <tr>\n",
       "      <th>lotsizesquarefeet</th>\n",
       "      <td>8257</td>\n",
       "      <td>0.11</td>\n",
       "    </tr>\n",
       "  </tbody>\n",
       "</table>\n",
       "</div>"
      ],
      "text/plain": [
       "                          number_missing_rows  percent_rows_missing\n",
       "buildingclassdesc                       77560                  1.00\n",
       "buildingclasstypeid                     77560                  1.00\n",
       "finishedsquarefeet13                    77533                  1.00\n",
       "storytypeid                             77525                  1.00\n",
       "basementsqft                            77525                  1.00\n",
       "storydesc                               77525                  1.00\n",
       "yardbuildingsqft26                      77505                  1.00\n",
       "fireplaceflag                           77403                  1.00\n",
       "architecturalstyletypeid                77369                  1.00\n",
       "architecturalstyledesc                  77369                  1.00\n",
       "typeconstructiondesc                    77353                  1.00\n",
       "typeconstructiontypeid                  77353                  1.00\n",
       "finishedsquarefeet6                     77189                  1.00\n",
       "pooltypeid10                            77110                  0.99\n",
       "decktypeid                              76961                  0.99\n",
       "poolsizesum                             76706                  0.99\n",
       "pooltypeid2                             76501                  0.99\n",
       "hashottuborspa                          76036                  0.98\n",
       "yardbuildingsqft17                      75182                  0.97\n",
       "taxdelinquencyyear                      74675                  0.96\n",
       "taxdelinquencyflag                      74675                  0.96\n",
       "finishedsquarefeet15                    74548                  0.96\n",
       "finishedsquarefeet50                    71540                  0.92\n",
       "finishedfloor1squarefeet                71540                  0.92\n",
       "fireplacecnt                            69288                  0.89\n",
       "threequarterbathnbr                     67470                  0.87\n",
       "pooltypeid7                             62497                  0.81\n",
       "poolcnt                                 61402                  0.79\n",
       "numberofstories                         59979                  0.77\n",
       "airconditioningdesc                     52569                  0.68\n",
       "airconditioningtypeid                   52569                  0.68\n",
       "garagecarcnt                            52058                  0.67\n",
       "garagetotalsqft                         52058                  0.67\n",
       "regionidneighborhood                    46602                  0.60\n",
       "heatingorsystemtypeid                   28005                  0.36\n",
       "heatingorsystemdesc                     28005                  0.36\n",
       "buildingqualitytypeid                   27766                  0.36\n",
       "propertyzoningdesc                      27100                  0.35\n",
       "unitcnt                                 26872                  0.35\n",
       "lotsizesquarefeet                        8257                  0.11"
      ]
     },
     "execution_count": 83,
     "metadata": {},
     "output_type": "execute_result"
    }
   ],
   "source": [
    "nulls_by_column = nulls_by_col(df)\n",
    "nulls_by_column.sort_values(by=\"percent_rows_missing\", ascending=False).head(40)"
   ]
  },
  {
   "cell_type": "markdown",
   "metadata": {},
   "source": [
    "### 4. Write a function that takes in a dataframe and returns a dataframe with 3 columns: the number of columns missing, percent of columns missing, and number of rows with n columns missing. Run the function and document takeaways from this on how you want to handle missing values."
   ]
  },
  {
   "cell_type": "code",
   "execution_count": 4,
   "metadata": {},
   "outputs": [
    {
     "data": {
      "text/html": [
       "<div>\n",
       "<style scoped>\n",
       "    .dataframe tbody tr th:only-of-type {\n",
       "        vertical-align: middle;\n",
       "    }\n",
       "\n",
       "    .dataframe tbody tr th {\n",
       "        vertical-align: top;\n",
       "    }\n",
       "\n",
       "    .dataframe thead th {\n",
       "        text-align: right;\n",
       "    }\n",
       "</style>\n",
       "<table border=\"1\" class=\"dataframe\">\n",
       "  <thead>\n",
       "    <tr style=\"text-align: right;\">\n",
       "      <th></th>\n",
       "      <th>num_cols_missing</th>\n",
       "      <th>pct_cols_missing</th>\n",
       "      <th>num_rows</th>\n",
       "    </tr>\n",
       "  </thead>\n",
       "  <tbody>\n",
       "    <tr>\n",
       "      <th>0</th>\n",
       "      <td>23</td>\n",
       "      <td>38.333</td>\n",
       "      <td>108</td>\n",
       "    </tr>\n",
       "    <tr>\n",
       "      <th>1</th>\n",
       "      <td>24</td>\n",
       "      <td>40.000</td>\n",
       "      <td>123</td>\n",
       "    </tr>\n",
       "    <tr>\n",
       "      <th>2</th>\n",
       "      <td>25</td>\n",
       "      <td>41.667</td>\n",
       "      <td>5280</td>\n",
       "    </tr>\n",
       "  </tbody>\n",
       "</table>\n",
       "</div>"
      ],
      "text/plain": [
       "   num_cols_missing  pct_cols_missing  num_rows\n",
       "0                23            38.333       108\n",
       "1                24            40.000       123\n",
       "2                25            41.667      5280"
      ]
     },
     "execution_count": 4,
     "metadata": {},
     "output_type": "execute_result"
    }
   ],
   "source": [
    "pd.read_clipboard()"
   ]
  },
  {
   "cell_type": "code",
   "execution_count": 24,
   "metadata": {},
   "outputs": [
    {
     "data": {
      "text/html": [
       "<div>\n",
       "<style scoped>\n",
       "    .dataframe tbody tr th:only-of-type {\n",
       "        vertical-align: middle;\n",
       "    }\n",
       "\n",
       "    .dataframe tbody tr th {\n",
       "        vertical-align: top;\n",
       "    }\n",
       "\n",
       "    .dataframe thead th {\n",
       "        text-align: right;\n",
       "    }\n",
       "</style>\n",
       "<table border=\"1\" class=\"dataframe\">\n",
       "  <thead>\n",
       "    <tr style=\"text-align: right;\">\n",
       "      <th></th>\n",
       "      <th>num_cols_missing</th>\n",
       "      <th>pct_col_missing</th>\n",
       "      <th>num_rows</th>\n",
       "    </tr>\n",
       "  </thead>\n",
       "  <tbody>\n",
       "    <tr>\n",
       "      <th>25</th>\n",
       "      <td>23</td>\n",
       "      <td>0.33</td>\n",
       "      <td>2</td>\n",
       "    </tr>\n",
       "    <tr>\n",
       "      <th>21</th>\n",
       "      <td>24</td>\n",
       "      <td>0.35</td>\n",
       "      <td>13</td>\n",
       "    </tr>\n",
       "    <tr>\n",
       "      <th>20</th>\n",
       "      <td>25</td>\n",
       "      <td>0.36</td>\n",
       "      <td>24</td>\n",
       "    </tr>\n",
       "    <tr>\n",
       "      <th>15</th>\n",
       "      <td>26</td>\n",
       "      <td>0.38</td>\n",
       "      <td>66</td>\n",
       "    </tr>\n",
       "    <tr>\n",
       "      <th>11</th>\n",
       "      <td>27</td>\n",
       "      <td>0.39</td>\n",
       "      <td>316</td>\n",
       "    </tr>\n",
       "    <tr>\n",
       "      <th>10</th>\n",
       "      <td>28</td>\n",
       "      <td>0.41</td>\n",
       "      <td>457</td>\n",
       "    </tr>\n",
       "    <tr>\n",
       "      <th>5</th>\n",
       "      <td>29</td>\n",
       "      <td>0.42</td>\n",
       "      <td>5285</td>\n",
       "    </tr>\n",
       "    <tr>\n",
       "      <th>8</th>\n",
       "      <td>30</td>\n",
       "      <td>0.43</td>\n",
       "      <td>3465</td>\n",
       "    </tr>\n",
       "    <tr>\n",
       "      <th>3</th>\n",
       "      <td>31</td>\n",
       "      <td>0.45</td>\n",
       "      <td>9911</td>\n",
       "    </tr>\n",
       "    <tr>\n",
       "      <th>2</th>\n",
       "      <td>32</td>\n",
       "      <td>0.46</td>\n",
       "      <td>12606</td>\n",
       "    </tr>\n",
       "    <tr>\n",
       "      <th>0</th>\n",
       "      <td>33</td>\n",
       "      <td>0.48</td>\n",
       "      <td>14819</td>\n",
       "    </tr>\n",
       "    <tr>\n",
       "      <th>1</th>\n",
       "      <td>34</td>\n",
       "      <td>0.49</td>\n",
       "      <td>13357</td>\n",
       "    </tr>\n",
       "    <tr>\n",
       "      <th>6</th>\n",
       "      <td>35</td>\n",
       "      <td>0.51</td>\n",
       "      <td>5163</td>\n",
       "    </tr>\n",
       "    <tr>\n",
       "      <th>4</th>\n",
       "      <td>36</td>\n",
       "      <td>0.52</td>\n",
       "      <td>5793</td>\n",
       "    </tr>\n",
       "    <tr>\n",
       "      <th>7</th>\n",
       "      <td>37</td>\n",
       "      <td>0.54</td>\n",
       "      <td>3630</td>\n",
       "    </tr>\n",
       "    <tr>\n",
       "      <th>9</th>\n",
       "      <td>38</td>\n",
       "      <td>0.55</td>\n",
       "      <td>1932</td>\n",
       "    </tr>\n",
       "    <tr>\n",
       "      <th>12</th>\n",
       "      <td>39</td>\n",
       "      <td>0.57</td>\n",
       "      <td>285</td>\n",
       "    </tr>\n",
       "    <tr>\n",
       "      <th>13</th>\n",
       "      <td>40</td>\n",
       "      <td>0.58</td>\n",
       "      <td>230</td>\n",
       "    </tr>\n",
       "    <tr>\n",
       "      <th>17</th>\n",
       "      <td>41</td>\n",
       "      <td>0.62</td>\n",
       "      <td>29</td>\n",
       "    </tr>\n",
       "    <tr>\n",
       "      <th>19</th>\n",
       "      <td>42</td>\n",
       "      <td>0.61</td>\n",
       "      <td>27</td>\n",
       "    </tr>\n",
       "    <tr>\n",
       "      <th>18</th>\n",
       "      <td>43</td>\n",
       "      <td>0.59</td>\n",
       "      <td>29</td>\n",
       "    </tr>\n",
       "    <tr>\n",
       "      <th>14</th>\n",
       "      <td>44</td>\n",
       "      <td>0.64</td>\n",
       "      <td>79</td>\n",
       "    </tr>\n",
       "    <tr>\n",
       "      <th>16</th>\n",
       "      <td>45</td>\n",
       "      <td>0.65</td>\n",
       "      <td>50</td>\n",
       "    </tr>\n",
       "    <tr>\n",
       "      <th>22</th>\n",
       "      <td>46</td>\n",
       "      <td>0.67</td>\n",
       "      <td>5</td>\n",
       "    </tr>\n",
       "    <tr>\n",
       "      <th>24</th>\n",
       "      <td>47</td>\n",
       "      <td>0.68</td>\n",
       "      <td>3</td>\n",
       "    </tr>\n",
       "    <tr>\n",
       "      <th>23</th>\n",
       "      <td>48</td>\n",
       "      <td>0.70</td>\n",
       "      <td>3</td>\n",
       "    </tr>\n",
       "  </tbody>\n",
       "</table>\n",
       "</div>"
      ],
      "text/plain": [
       "    num_cols_missing  pct_col_missing  num_rows\n",
       "25                23             0.33         2\n",
       "21                24             0.35        13\n",
       "20                25             0.36        24\n",
       "15                26             0.38        66\n",
       "11                27             0.39       316\n",
       "10                28             0.41       457\n",
       "5                 29             0.42      5285\n",
       "8                 30             0.43      3465\n",
       "3                 31             0.45      9911\n",
       "2                 32             0.46     12606\n",
       "0                 33             0.48     14819\n",
       "1                 34             0.49     13357\n",
       "6                 35             0.51      5163\n",
       "4                 36             0.52      5793\n",
       "7                 37             0.54      3630\n",
       "9                 38             0.55      1932\n",
       "12                39             0.57       285\n",
       "13                40             0.58       230\n",
       "17                41             0.62        29\n",
       "19                42             0.61        27\n",
       "18                43             0.59        29\n",
       "14                44             0.64        79\n",
       "16                45             0.65        50\n",
       "22                46             0.67         5\n",
       "24                47             0.68         3\n",
       "23                48             0.70         3"
      ]
     },
     "execution_count": 24,
     "metadata": {},
     "output_type": "execute_result"
    }
   ],
   "source": [
    "#alternate function (takes long)\n",
    "def missing_columns(df):\n",
    "    columns = df.columns.to_list()\n",
    "    nulls_by_row = []\n",
    "    for i in range(df.shape[0]):\n",
    "        nulls_by_row.append(df.iloc[i].isna().sum())\n",
    "    df['null_count'] = nulls_by_row\n",
    "    df['pct_col_missing'] = df.null_count / len(columns)\n",
    "    df2 = df.pct_col_missing.value_counts().rename_axis('pct_col_missing').reset_index(name='num_rows')\n",
    "    df3 = df.null_count.value_counts().rename_axis('num_cols_missing').reset_index(name='num_rows').drop(columns=['num_rows'])\n",
    "    df = pd.concat([df3, df2], axis = 1)\n",
    "    return df\n",
    "\n",
    "missing_columns(df).sort_values(by=['num_cols_missing'])"
   ]
  },
  {
   "cell_type": "code",
   "execution_count": 84,
   "metadata": {},
   "outputs": [
    {
     "data": {
      "text/plain": [
       "0        31\n",
       "1        29\n",
       "2        31\n",
       "3        31\n",
       "4        31\n",
       "         ..\n",
       "77570    48\n",
       "77571    47\n",
       "77572    48\n",
       "77573    37\n",
       "77574    47\n",
       "Length: 77575, dtype: int64"
      ]
     },
     "execution_count": 84,
     "metadata": {},
     "output_type": "execute_result"
    }
   ],
   "source": [
    "#breakdown from ex walkthrough\n",
    "df.isnull().sum(axis=1)\n",
    "#for each row, how many nulls"
   ]
  },
  {
   "cell_type": "code",
   "execution_count": 85,
   "metadata": {},
   "outputs": [
    {
     "data": {
      "text/html": [
       "<div>\n",
       "<style scoped>\n",
       "    .dataframe tbody tr th:only-of-type {\n",
       "        vertical-align: middle;\n",
       "    }\n",
       "\n",
       "    .dataframe tbody tr th {\n",
       "        vertical-align: top;\n",
       "    }\n",
       "\n",
       "    .dataframe thead th {\n",
       "        text-align: right;\n",
       "    }\n",
       "</style>\n",
       "<table border=\"1\" class=\"dataframe\">\n",
       "  <thead>\n",
       "    <tr style=\"text-align: right;\">\n",
       "      <th></th>\n",
       "      <th>0</th>\n",
       "    </tr>\n",
       "  </thead>\n",
       "  <tbody>\n",
       "    <tr>\n",
       "      <th>0</th>\n",
       "      <td>31</td>\n",
       "    </tr>\n",
       "    <tr>\n",
       "      <th>1</th>\n",
       "      <td>29</td>\n",
       "    </tr>\n",
       "    <tr>\n",
       "      <th>2</th>\n",
       "      <td>31</td>\n",
       "    </tr>\n",
       "    <tr>\n",
       "      <th>3</th>\n",
       "      <td>31</td>\n",
       "    </tr>\n",
       "    <tr>\n",
       "      <th>4</th>\n",
       "      <td>31</td>\n",
       "    </tr>\n",
       "    <tr>\n",
       "      <th>...</th>\n",
       "      <td>...</td>\n",
       "    </tr>\n",
       "    <tr>\n",
       "      <th>77570</th>\n",
       "      <td>48</td>\n",
       "    </tr>\n",
       "    <tr>\n",
       "      <th>77571</th>\n",
       "      <td>47</td>\n",
       "    </tr>\n",
       "    <tr>\n",
       "      <th>77572</th>\n",
       "      <td>48</td>\n",
       "    </tr>\n",
       "    <tr>\n",
       "      <th>77573</th>\n",
       "      <td>37</td>\n",
       "    </tr>\n",
       "    <tr>\n",
       "      <th>77574</th>\n",
       "      <td>47</td>\n",
       "    </tr>\n",
       "  </tbody>\n",
       "</table>\n",
       "<p>77575 rows × 1 columns</p>\n",
       "</div>"
      ],
      "text/plain": [
       "        0\n",
       "0      31\n",
       "1      29\n",
       "2      31\n",
       "3      31\n",
       "4      31\n",
       "...    ..\n",
       "77570  48\n",
       "77571  47\n",
       "77572  48\n",
       "77573  37\n",
       "77574  47\n",
       "\n",
       "[77575 rows x 1 columns]"
      ]
     },
     "execution_count": 85,
     "metadata": {},
     "output_type": "execute_result"
    }
   ],
   "source": [
    "#convert to df\n",
    "pd.DataFrame(df.isnull().sum(axis=1))"
   ]
  },
  {
   "cell_type": "code",
   "execution_count": 86,
   "metadata": {},
   "outputs": [
    {
     "data": {
      "text/html": [
       "<div>\n",
       "<style scoped>\n",
       "    .dataframe tbody tr th:only-of-type {\n",
       "        vertical-align: middle;\n",
       "    }\n",
       "\n",
       "    .dataframe tbody tr th {\n",
       "        vertical-align: top;\n",
       "    }\n",
       "\n",
       "    .dataframe thead th {\n",
       "        text-align: right;\n",
       "    }\n",
       "</style>\n",
       "<table border=\"1\" class=\"dataframe\">\n",
       "  <thead>\n",
       "    <tr style=\"text-align: right;\">\n",
       "      <th></th>\n",
       "      <th>index</th>\n",
       "      <th>num_cols_missing</th>\n",
       "    </tr>\n",
       "  </thead>\n",
       "  <tbody>\n",
       "    <tr>\n",
       "      <th>0</th>\n",
       "      <td>0</td>\n",
       "      <td>31</td>\n",
       "    </tr>\n",
       "    <tr>\n",
       "      <th>1</th>\n",
       "      <td>1</td>\n",
       "      <td>29</td>\n",
       "    </tr>\n",
       "    <tr>\n",
       "      <th>2</th>\n",
       "      <td>2</td>\n",
       "      <td>31</td>\n",
       "    </tr>\n",
       "    <tr>\n",
       "      <th>3</th>\n",
       "      <td>3</td>\n",
       "      <td>31</td>\n",
       "    </tr>\n",
       "    <tr>\n",
       "      <th>4</th>\n",
       "      <td>4</td>\n",
       "      <td>31</td>\n",
       "    </tr>\n",
       "    <tr>\n",
       "      <th>...</th>\n",
       "      <td>...</td>\n",
       "      <td>...</td>\n",
       "    </tr>\n",
       "    <tr>\n",
       "      <th>77570</th>\n",
       "      <td>77570</td>\n",
       "      <td>48</td>\n",
       "    </tr>\n",
       "    <tr>\n",
       "      <th>77571</th>\n",
       "      <td>77571</td>\n",
       "      <td>47</td>\n",
       "    </tr>\n",
       "    <tr>\n",
       "      <th>77572</th>\n",
       "      <td>77572</td>\n",
       "      <td>48</td>\n",
       "    </tr>\n",
       "    <tr>\n",
       "      <th>77573</th>\n",
       "      <td>77573</td>\n",
       "      <td>37</td>\n",
       "    </tr>\n",
       "    <tr>\n",
       "      <th>77574</th>\n",
       "      <td>77574</td>\n",
       "      <td>47</td>\n",
       "    </tr>\n",
       "  </tbody>\n",
       "</table>\n",
       "<p>77575 rows × 2 columns</p>\n",
       "</div>"
      ],
      "text/plain": [
       "       index  num_cols_missing\n",
       "0          0                31\n",
       "1          1                29\n",
       "2          2                31\n",
       "3          3                31\n",
       "4          4                31\n",
       "...      ...               ...\n",
       "77570  77570                48\n",
       "77571  77571                47\n",
       "77572  77572                48\n",
       "77573  77573                37\n",
       "77574  77574                47\n",
       "\n",
       "[77575 rows x 2 columns]"
      ]
     },
     "execution_count": 86,
     "metadata": {},
     "output_type": "execute_result"
    }
   ],
   "source": [
    "#once there is a df, we can specify col names\n",
    "pd.DataFrame(df.isnull().sum(axis=1), columns = ['num_cols_missing']).reset_index()\n",
    "#reset index to have at least 1 more col"
   ]
  },
  {
   "cell_type": "code",
   "execution_count": 87,
   "metadata": {},
   "outputs": [
    {
     "data": {
      "text/html": [
       "<div>\n",
       "<style scoped>\n",
       "    .dataframe tbody tr th:only-of-type {\n",
       "        vertical-align: middle;\n",
       "    }\n",
       "\n",
       "    .dataframe tbody tr th {\n",
       "        vertical-align: top;\n",
       "    }\n",
       "\n",
       "    .dataframe thead th {\n",
       "        text-align: right;\n",
       "    }\n",
       "</style>\n",
       "<table border=\"1\" class=\"dataframe\">\n",
       "  <thead>\n",
       "    <tr style=\"text-align: right;\">\n",
       "      <th></th>\n",
       "      <th>num_cols_missing</th>\n",
       "      <th>index</th>\n",
       "    </tr>\n",
       "  </thead>\n",
       "  <tbody>\n",
       "    <tr>\n",
       "      <th>0</th>\n",
       "      <td>23</td>\n",
       "      <td>2</td>\n",
       "    </tr>\n",
       "    <tr>\n",
       "      <th>1</th>\n",
       "      <td>24</td>\n",
       "      <td>13</td>\n",
       "    </tr>\n",
       "    <tr>\n",
       "      <th>2</th>\n",
       "      <td>25</td>\n",
       "      <td>24</td>\n",
       "    </tr>\n",
       "    <tr>\n",
       "      <th>3</th>\n",
       "      <td>26</td>\n",
       "      <td>65</td>\n",
       "    </tr>\n",
       "    <tr>\n",
       "      <th>4</th>\n",
       "      <td>27</td>\n",
       "      <td>316</td>\n",
       "    </tr>\n",
       "    <tr>\n",
       "      <th>5</th>\n",
       "      <td>28</td>\n",
       "      <td>457</td>\n",
       "    </tr>\n",
       "    <tr>\n",
       "      <th>6</th>\n",
       "      <td>29</td>\n",
       "      <td>5285</td>\n",
       "    </tr>\n",
       "    <tr>\n",
       "      <th>7</th>\n",
       "      <td>30</td>\n",
       "      <td>3465</td>\n",
       "    </tr>\n",
       "    <tr>\n",
       "      <th>8</th>\n",
       "      <td>31</td>\n",
       "      <td>9911</td>\n",
       "    </tr>\n",
       "    <tr>\n",
       "      <th>9</th>\n",
       "      <td>32</td>\n",
       "      <td>12606</td>\n",
       "    </tr>\n",
       "    <tr>\n",
       "      <th>10</th>\n",
       "      <td>33</td>\n",
       "      <td>14817</td>\n",
       "    </tr>\n",
       "    <tr>\n",
       "      <th>11</th>\n",
       "      <td>34</td>\n",
       "      <td>13357</td>\n",
       "    </tr>\n",
       "    <tr>\n",
       "      <th>12</th>\n",
       "      <td>35</td>\n",
       "      <td>5163</td>\n",
       "    </tr>\n",
       "    <tr>\n",
       "      <th>13</th>\n",
       "      <td>36</td>\n",
       "      <td>5793</td>\n",
       "    </tr>\n",
       "    <tr>\n",
       "      <th>14</th>\n",
       "      <td>37</td>\n",
       "      <td>3630</td>\n",
       "    </tr>\n",
       "    <tr>\n",
       "      <th>15</th>\n",
       "      <td>38</td>\n",
       "      <td>1932</td>\n",
       "    </tr>\n",
       "    <tr>\n",
       "      <th>16</th>\n",
       "      <td>39</td>\n",
       "      <td>285</td>\n",
       "    </tr>\n",
       "    <tr>\n",
       "      <th>17</th>\n",
       "      <td>40</td>\n",
       "      <td>230</td>\n",
       "    </tr>\n",
       "    <tr>\n",
       "      <th>18</th>\n",
       "      <td>41</td>\n",
       "      <td>29</td>\n",
       "    </tr>\n",
       "    <tr>\n",
       "      <th>19</th>\n",
       "      <td>42</td>\n",
       "      <td>26</td>\n",
       "    </tr>\n",
       "    <tr>\n",
       "      <th>20</th>\n",
       "      <td>43</td>\n",
       "      <td>29</td>\n",
       "    </tr>\n",
       "    <tr>\n",
       "      <th>21</th>\n",
       "      <td>44</td>\n",
       "      <td>79</td>\n",
       "    </tr>\n",
       "    <tr>\n",
       "      <th>22</th>\n",
       "      <td>45</td>\n",
       "      <td>50</td>\n",
       "    </tr>\n",
       "    <tr>\n",
       "      <th>23</th>\n",
       "      <td>46</td>\n",
       "      <td>5</td>\n",
       "    </tr>\n",
       "    <tr>\n",
       "      <th>24</th>\n",
       "      <td>47</td>\n",
       "      <td>3</td>\n",
       "    </tr>\n",
       "    <tr>\n",
       "      <th>25</th>\n",
       "      <td>48</td>\n",
       "      <td>3</td>\n",
       "    </tr>\n",
       "  </tbody>\n",
       "</table>\n",
       "</div>"
      ],
      "text/plain": [
       "    num_cols_missing  index\n",
       "0                 23      2\n",
       "1                 24     13\n",
       "2                 25     24\n",
       "3                 26     65\n",
       "4                 27    316\n",
       "5                 28    457\n",
       "6                 29   5285\n",
       "7                 30   3465\n",
       "8                 31   9911\n",
       "9                 32  12606\n",
       "10                33  14817\n",
       "11                34  13357\n",
       "12                35   5163\n",
       "13                36   5793\n",
       "14                37   3630\n",
       "15                38   1932\n",
       "16                39    285\n",
       "17                40    230\n",
       "18                41     29\n",
       "19                42     26\n",
       "20                43     29\n",
       "21                44     79\n",
       "22                45     50\n",
       "23                46      5\n",
       "24                47      3\n",
       "25                48      3"
      ]
     },
     "execution_count": 87,
     "metadata": {},
     "output_type": "execute_result"
    }
   ],
   "source": [
    "#groupby num cols missing .count() and reset index since previous index was lost\n",
    "pd.DataFrame(df.isnull().sum(axis=1), columns = ['num_cols_missing']).reset_index().groupby('num_cols_missing').count().reset_index()"
   ]
  },
  {
   "cell_type": "code",
   "execution_count": 88,
   "metadata": {},
   "outputs": [
    {
     "data": {
      "text/html": [
       "<div>\n",
       "<style scoped>\n",
       "    .dataframe tbody tr th:only-of-type {\n",
       "        vertical-align: middle;\n",
       "    }\n",
       "\n",
       "    .dataframe tbody tr th {\n",
       "        vertical-align: top;\n",
       "    }\n",
       "\n",
       "    .dataframe thead th {\n",
       "        text-align: right;\n",
       "    }\n",
       "</style>\n",
       "<table border=\"1\" class=\"dataframe\">\n",
       "  <thead>\n",
       "    <tr style=\"text-align: right;\">\n",
       "      <th></th>\n",
       "      <th>num_cols_missing</th>\n",
       "      <th>num_rows</th>\n",
       "    </tr>\n",
       "  </thead>\n",
       "  <tbody>\n",
       "    <tr>\n",
       "      <th>0</th>\n",
       "      <td>23</td>\n",
       "      <td>2</td>\n",
       "    </tr>\n",
       "    <tr>\n",
       "      <th>1</th>\n",
       "      <td>24</td>\n",
       "      <td>13</td>\n",
       "    </tr>\n",
       "    <tr>\n",
       "      <th>2</th>\n",
       "      <td>25</td>\n",
       "      <td>24</td>\n",
       "    </tr>\n",
       "    <tr>\n",
       "      <th>3</th>\n",
       "      <td>26</td>\n",
       "      <td>65</td>\n",
       "    </tr>\n",
       "    <tr>\n",
       "      <th>4</th>\n",
       "      <td>27</td>\n",
       "      <td>316</td>\n",
       "    </tr>\n",
       "    <tr>\n",
       "      <th>5</th>\n",
       "      <td>28</td>\n",
       "      <td>457</td>\n",
       "    </tr>\n",
       "    <tr>\n",
       "      <th>6</th>\n",
       "      <td>29</td>\n",
       "      <td>5285</td>\n",
       "    </tr>\n",
       "    <tr>\n",
       "      <th>7</th>\n",
       "      <td>30</td>\n",
       "      <td>3465</td>\n",
       "    </tr>\n",
       "    <tr>\n",
       "      <th>8</th>\n",
       "      <td>31</td>\n",
       "      <td>9911</td>\n",
       "    </tr>\n",
       "    <tr>\n",
       "      <th>9</th>\n",
       "      <td>32</td>\n",
       "      <td>12606</td>\n",
       "    </tr>\n",
       "    <tr>\n",
       "      <th>10</th>\n",
       "      <td>33</td>\n",
       "      <td>14817</td>\n",
       "    </tr>\n",
       "    <tr>\n",
       "      <th>11</th>\n",
       "      <td>34</td>\n",
       "      <td>13357</td>\n",
       "    </tr>\n",
       "    <tr>\n",
       "      <th>12</th>\n",
       "      <td>35</td>\n",
       "      <td>5163</td>\n",
       "    </tr>\n",
       "    <tr>\n",
       "      <th>13</th>\n",
       "      <td>36</td>\n",
       "      <td>5793</td>\n",
       "    </tr>\n",
       "    <tr>\n",
       "      <th>14</th>\n",
       "      <td>37</td>\n",
       "      <td>3630</td>\n",
       "    </tr>\n",
       "    <tr>\n",
       "      <th>15</th>\n",
       "      <td>38</td>\n",
       "      <td>1932</td>\n",
       "    </tr>\n",
       "    <tr>\n",
       "      <th>16</th>\n",
       "      <td>39</td>\n",
       "      <td>285</td>\n",
       "    </tr>\n",
       "    <tr>\n",
       "      <th>17</th>\n",
       "      <td>40</td>\n",
       "      <td>230</td>\n",
       "    </tr>\n",
       "    <tr>\n",
       "      <th>18</th>\n",
       "      <td>41</td>\n",
       "      <td>29</td>\n",
       "    </tr>\n",
       "    <tr>\n",
       "      <th>19</th>\n",
       "      <td>42</td>\n",
       "      <td>26</td>\n",
       "    </tr>\n",
       "    <tr>\n",
       "      <th>20</th>\n",
       "      <td>43</td>\n",
       "      <td>29</td>\n",
       "    </tr>\n",
       "    <tr>\n",
       "      <th>21</th>\n",
       "      <td>44</td>\n",
       "      <td>79</td>\n",
       "    </tr>\n",
       "    <tr>\n",
       "      <th>22</th>\n",
       "      <td>45</td>\n",
       "      <td>50</td>\n",
       "    </tr>\n",
       "    <tr>\n",
       "      <th>23</th>\n",
       "      <td>46</td>\n",
       "      <td>5</td>\n",
       "    </tr>\n",
       "    <tr>\n",
       "      <th>24</th>\n",
       "      <td>47</td>\n",
       "      <td>3</td>\n",
       "    </tr>\n",
       "    <tr>\n",
       "      <th>25</th>\n",
       "      <td>48</td>\n",
       "      <td>3</td>\n",
       "    </tr>\n",
       "  </tbody>\n",
       "</table>\n",
       "</div>"
      ],
      "text/plain": [
       "    num_cols_missing  num_rows\n",
       "0                 23         2\n",
       "1                 24        13\n",
       "2                 25        24\n",
       "3                 26        65\n",
       "4                 27       316\n",
       "5                 28       457\n",
       "6                 29      5285\n",
       "7                 30      3465\n",
       "8                 31      9911\n",
       "9                 32     12606\n",
       "10                33     14817\n",
       "11                34     13357\n",
       "12                35      5163\n",
       "13                36      5793\n",
       "14                37      3630\n",
       "15                38      1932\n",
       "16                39       285\n",
       "17                40       230\n",
       "18                41        29\n",
       "19                42        26\n",
       "20                43        29\n",
       "21                44        79\n",
       "22                45        50\n",
       "23                46         5\n",
       "24                47         3\n",
       "25                48         3"
      ]
     },
     "execution_count": 88,
     "metadata": {},
     "output_type": "execute_result"
    }
   ],
   "source": [
    "#new index doesn't make sense, so need to rename\n",
    "pd.DataFrame(df.isnull().sum(axis=1), columns = ['num_cols_missing']).reset_index().groupby('num_cols_missing').count().reset_index().rename(columns = {'index': 'num_rows' })\n"
   ]
  },
  {
   "cell_type": "code",
   "execution_count": 92,
   "metadata": {},
   "outputs": [],
   "source": [
    "#finished function\n",
    "def cols_missing(df):\n",
    "    df2 = pd.DataFrame(df.isnull().sum(axis =1), columns = ['num_cols_missing']).reset_index()\\\n",
    "    .groupby('num_cols_missing').count().reset_index().\\\n",
    "    rename(columns = {'index': 'num_rows' })\n",
    "    df2['pct_cols_missing'] = df2.num_cols_missing/df.shape[1]\n",
    "    return df2"
   ]
  },
  {
   "cell_type": "code",
   "execution_count": 93,
   "metadata": {},
   "outputs": [
    {
     "data": {
      "text/html": [
       "<div>\n",
       "<style scoped>\n",
       "    .dataframe tbody tr th:only-of-type {\n",
       "        vertical-align: middle;\n",
       "    }\n",
       "\n",
       "    .dataframe tbody tr th {\n",
       "        vertical-align: top;\n",
       "    }\n",
       "\n",
       "    .dataframe thead th {\n",
       "        text-align: right;\n",
       "    }\n",
       "</style>\n",
       "<table border=\"1\" class=\"dataframe\">\n",
       "  <thead>\n",
       "    <tr style=\"text-align: right;\">\n",
       "      <th></th>\n",
       "      <th>num_cols_missing</th>\n",
       "      <th>num_rows</th>\n",
       "      <th>pct_cols_missing</th>\n",
       "    </tr>\n",
       "  </thead>\n",
       "  <tbody>\n",
       "    <tr>\n",
       "      <th>25</th>\n",
       "      <td>48</td>\n",
       "      <td>3</td>\n",
       "      <td>0.71</td>\n",
       "    </tr>\n",
       "    <tr>\n",
       "      <th>24</th>\n",
       "      <td>47</td>\n",
       "      <td>3</td>\n",
       "      <td>0.69</td>\n",
       "    </tr>\n",
       "    <tr>\n",
       "      <th>23</th>\n",
       "      <td>46</td>\n",
       "      <td>5</td>\n",
       "      <td>0.68</td>\n",
       "    </tr>\n",
       "    <tr>\n",
       "      <th>22</th>\n",
       "      <td>45</td>\n",
       "      <td>50</td>\n",
       "      <td>0.66</td>\n",
       "    </tr>\n",
       "    <tr>\n",
       "      <th>21</th>\n",
       "      <td>44</td>\n",
       "      <td>79</td>\n",
       "      <td>0.65</td>\n",
       "    </tr>\n",
       "    <tr>\n",
       "      <th>20</th>\n",
       "      <td>43</td>\n",
       "      <td>29</td>\n",
       "      <td>0.63</td>\n",
       "    </tr>\n",
       "    <tr>\n",
       "      <th>19</th>\n",
       "      <td>42</td>\n",
       "      <td>26</td>\n",
       "      <td>0.62</td>\n",
       "    </tr>\n",
       "    <tr>\n",
       "      <th>18</th>\n",
       "      <td>41</td>\n",
       "      <td>29</td>\n",
       "      <td>0.60</td>\n",
       "    </tr>\n",
       "    <tr>\n",
       "      <th>17</th>\n",
       "      <td>40</td>\n",
       "      <td>230</td>\n",
       "      <td>0.59</td>\n",
       "    </tr>\n",
       "    <tr>\n",
       "      <th>16</th>\n",
       "      <td>39</td>\n",
       "      <td>285</td>\n",
       "      <td>0.57</td>\n",
       "    </tr>\n",
       "    <tr>\n",
       "      <th>15</th>\n",
       "      <td>38</td>\n",
       "      <td>1932</td>\n",
       "      <td>0.56</td>\n",
       "    </tr>\n",
       "    <tr>\n",
       "      <th>14</th>\n",
       "      <td>37</td>\n",
       "      <td>3630</td>\n",
       "      <td>0.54</td>\n",
       "    </tr>\n",
       "    <tr>\n",
       "      <th>13</th>\n",
       "      <td>36</td>\n",
       "      <td>5793</td>\n",
       "      <td>0.53</td>\n",
       "    </tr>\n",
       "    <tr>\n",
       "      <th>12</th>\n",
       "      <td>35</td>\n",
       "      <td>5163</td>\n",
       "      <td>0.51</td>\n",
       "    </tr>\n",
       "    <tr>\n",
       "      <th>11</th>\n",
       "      <td>34</td>\n",
       "      <td>13357</td>\n",
       "      <td>0.50</td>\n",
       "    </tr>\n",
       "    <tr>\n",
       "      <th>10</th>\n",
       "      <td>33</td>\n",
       "      <td>14817</td>\n",
       "      <td>0.49</td>\n",
       "    </tr>\n",
       "    <tr>\n",
       "      <th>9</th>\n",
       "      <td>32</td>\n",
       "      <td>12606</td>\n",
       "      <td>0.47</td>\n",
       "    </tr>\n",
       "    <tr>\n",
       "      <th>8</th>\n",
       "      <td>31</td>\n",
       "      <td>9911</td>\n",
       "      <td>0.46</td>\n",
       "    </tr>\n",
       "    <tr>\n",
       "      <th>7</th>\n",
       "      <td>30</td>\n",
       "      <td>3465</td>\n",
       "      <td>0.44</td>\n",
       "    </tr>\n",
       "    <tr>\n",
       "      <th>6</th>\n",
       "      <td>29</td>\n",
       "      <td>5285</td>\n",
       "      <td>0.43</td>\n",
       "    </tr>\n",
       "    <tr>\n",
       "      <th>5</th>\n",
       "      <td>28</td>\n",
       "      <td>457</td>\n",
       "      <td>0.41</td>\n",
       "    </tr>\n",
       "    <tr>\n",
       "      <th>4</th>\n",
       "      <td>27</td>\n",
       "      <td>316</td>\n",
       "      <td>0.40</td>\n",
       "    </tr>\n",
       "    <tr>\n",
       "      <th>3</th>\n",
       "      <td>26</td>\n",
       "      <td>65</td>\n",
       "      <td>0.38</td>\n",
       "    </tr>\n",
       "    <tr>\n",
       "      <th>2</th>\n",
       "      <td>25</td>\n",
       "      <td>24</td>\n",
       "      <td>0.37</td>\n",
       "    </tr>\n",
       "    <tr>\n",
       "      <th>1</th>\n",
       "      <td>24</td>\n",
       "      <td>13</td>\n",
       "      <td>0.35</td>\n",
       "    </tr>\n",
       "    <tr>\n",
       "      <th>0</th>\n",
       "      <td>23</td>\n",
       "      <td>2</td>\n",
       "      <td>0.34</td>\n",
       "    </tr>\n",
       "  </tbody>\n",
       "</table>\n",
       "</div>"
      ],
      "text/plain": [
       "    num_cols_missing  num_rows  pct_cols_missing\n",
       "25                48         3              0.71\n",
       "24                47         3              0.69\n",
       "23                46         5              0.68\n",
       "22                45        50              0.66\n",
       "21                44        79              0.65\n",
       "20                43        29              0.63\n",
       "19                42        26              0.62\n",
       "18                41        29              0.60\n",
       "17                40       230              0.59\n",
       "16                39       285              0.57\n",
       "15                38      1932              0.56\n",
       "14                37      3630              0.54\n",
       "13                36      5793              0.53\n",
       "12                35      5163              0.51\n",
       "11                34     13357              0.50\n",
       "10                33     14817              0.49\n",
       "9                 32     12606              0.47\n",
       "8                 31      9911              0.46\n",
       "7                 30      3465              0.44\n",
       "6                 29      5285              0.43\n",
       "5                 28       457              0.41\n",
       "4                 27       316              0.40\n",
       "3                 26        65              0.38\n",
       "2                 25        24              0.37\n",
       "1                 24        13              0.35\n",
       "0                 23         2              0.34"
      ]
     },
     "execution_count": 93,
     "metadata": {},
     "output_type": "execute_result"
    }
   ],
   "source": [
    "# sort valyes by pc_col_missing\n",
    "cols_missing(df).sort_values(by = ['pct_cols_missing'], ascending = False)"
   ]
  },
  {
   "cell_type": "markdown",
   "metadata": {},
   "source": [
    "## Prepare\n",
    "\n",
    "### 1. Remove any properties that are likely to be something other than single unit properties. (e.g. no duplexes, no land/lot, ...). There are multiple ways to estimate that a property is a single unit, and there is not a single \"right\" answer. But for this exercise, do not purely filter by unitcnt as we did previously. Add some new logic that will reduce the number of properties that are falsely removed. You might want to use # bedrooms, square feet, unit type or the like to then identify those with unitcnt not defined."
   ]
  },
  {
   "cell_type": "code",
   "execution_count": 94,
   "metadata": {},
   "outputs": [
    {
     "data": {
      "text/plain": [
       "(77575, 68)"
      ]
     },
     "execution_count": 94,
     "metadata": {},
     "output_type": "execute_result"
    }
   ],
   "source": [
    "#check data shape\n",
    "df.shape"
   ]
  },
  {
   "cell_type": "code",
   "execution_count": 95,
   "metadata": {},
   "outputs": [
    {
     "data": {
      "text/plain": [
       "1.00      47413\n",
       "nan       26872\n",
       "2.00       2031\n",
       "4.00        726\n",
       "3.00        529\n",
       "45.00         1\n",
       "6.00          1\n",
       "237.00        1\n",
       "42.00         1\n",
       "Name: unitcnt, dtype: int64"
      ]
     },
     "execution_count": 95,
     "metadata": {},
     "output_type": "execute_result"
    }
   ],
   "source": [
    "# look at value counts for 'unitcnt'\n",
    "df.unitcnt.value_counts(dropna = False)"
   ]
  },
  {
   "cell_type": "code",
   "execution_count": 96,
   "metadata": {},
   "outputs": [],
   "source": [
    "# Restrict df to only properties that meet single unit criteria\n",
    "\n",
    "single_unit = [261, 262, 263, 264, 266, 268, 273, 276, 279]\n",
    "df = df[df.propertylandusetypeid.isin(single_unit)]\n",
    "    \n",
    "    \n",
    "# Restrict df to only those properties with at least 1 bath & bed and >350 sqft area\n",
    "df = df[(df.bedroomcnt > 0) & (df.bathroomcnt > 0) & ((df.unitcnt<=1)|df.unitcnt.isnull()) & (df.calculatedfinishedsquarefeet>350)]"
   ]
  },
  {
   "cell_type": "code",
   "execution_count": 97,
   "metadata": {},
   "outputs": [
    {
     "data": {
      "text/plain": [
       "(71356, 68)"
      ]
     },
     "execution_count": 97,
     "metadata": {},
     "output_type": "execute_result"
    }
   ],
   "source": [
    "# check # of columns and rows left\n",
    "df.shape"
   ]
  },
  {
   "cell_type": "markdown",
   "metadata": {},
   "source": [
    "### 2. Create a function that will drop rows or columns based on the percent of values that are missing: handle_missing_values(df, prop_required_column, prop_required_row).\n",
    "\n",
    "- The input:\n",
    "    - A dataframe\n",
    "    - A number between 0 and 1 that represents the proportion, for each column, of rows with non-missing values required to keep the column. i.e. if prop_required_column = .6, then you are requiring a column to have at least 60% of values not-NA (no more than 40% missing).\n",
    "    - A number between 0 and 1 that represents the proportion, for each row, of columns/variables with non-missing values required to keep the row. For example, if prop_required_row = .75, then you are requiring a row to have at least 75% of variables with a non-missing value (no more that 25% missing).\n",
    "- The output:\n",
    "    - The dataframe with the columns and rows dropped as indicated. Be sure to drop the columns prior to the rows in your function.\n",
    "- hint:\n",
    "    - Look up the dropna documentation.\n",
    "    - You will want to compute a threshold from your input values (prop_required) and total number of rows or columns.\n",
    "    - Make use of inplace, i.e. inplace=True/False.   "
   ]
  },
  {
   "cell_type": "code",
   "execution_count": 98,
   "metadata": {},
   "outputs": [],
   "source": [
    "def handle_missing_values(df, prop_required_column = .5, prop_required_row = .70):\n",
    "    threshold = int(round(prop_required_column*len(df.index),0))\n",
    "    df.dropna(axis=1, thresh=threshold, inplace=True)\n",
    "    threshold = int(round(prop_required_row*len(df.columns),0))\n",
    "    df.dropna(axis=0, thresh=threshold, inplace=True)\n",
    "    return df"
   ]
  },
  {
   "cell_type": "code",
   "execution_count": 99,
   "metadata": {},
   "outputs": [],
   "source": [
    "# use the function defined above:\n",
    "df = handle_missing_values(df)"
   ]
  },
  {
   "cell_type": "code",
   "execution_count": 100,
   "metadata": {},
   "outputs": [
    {
     "data": {
      "text/plain": [
       "(71356, 34)"
      ]
     },
     "execution_count": 100,
     "metadata": {},
     "output_type": "execute_result"
    }
   ],
   "source": [
    "# check shape to see how many columns and rows were dropped\n",
    "df.shape"
   ]
  },
  {
   "cell_type": "code",
   "execution_count": 101,
   "metadata": {},
   "outputs": [
    {
     "name": "stdout",
     "output_type": "stream",
     "text": [
      "<class 'pandas.core.frame.DataFrame'>\n",
      "Int64Index: 71356 entries, 0 to 77573\n",
      "Data columns (total 34 columns):\n",
      " #   Column                        Non-Null Count  Dtype  \n",
      "---  ------                        --------------  -----  \n",
      " 0   id                            71356 non-null  int64  \n",
      " 1   parcelid                      71356 non-null  int64  \n",
      " 2   bathroomcnt                   71356 non-null  float64\n",
      " 3   bedroomcnt                    71356 non-null  float64\n",
      " 4   buildingqualitytypeid         44842 non-null  float64\n",
      " 5   calculatedbathnbr             71341 non-null  float64\n",
      " 6   calculatedfinishedsquarefeet  71356 non-null  float64\n",
      " 7   finishedsquarefeet12          71189 non-null  float64\n",
      " 8   fips                          71356 non-null  float64\n",
      " 9   fullbathcnt                   71341 non-null  float64\n",
      " 10  heatingorsystemtypeid         46413 non-null  float64\n",
      " 11  latitude                      71356 non-null  float64\n",
      " 12  longitude                     71356 non-null  float64\n",
      " 13  lotsizesquarefeet             63322 non-null  float64\n",
      " 14  propertycountylandusecode     71356 non-null  object \n",
      " 15  propertylandusetypeid         71356 non-null  float64\n",
      " 16  propertyzoningdesc            45135 non-null  object \n",
      " 17  rawcensustractandblock        71356 non-null  float64\n",
      " 18  regionidcity                  70034 non-null  float64\n",
      " 19  regionidcounty                71356 non-null  float64\n",
      " 20  regionidzip                   71316 non-null  float64\n",
      " 21  roomcnt                       71356 non-null  float64\n",
      " 22  unitcnt                       45161 non-null  float64\n",
      " 23  yearbuilt                     71321 non-null  float64\n",
      " 24  structuretaxvaluedollarcnt    71281 non-null  float64\n",
      " 25  taxvaluedollarcnt             71355 non-null  float64\n",
      " 26  assessmentyear                71356 non-null  float64\n",
      " 27  landtaxvaluedollarcnt         71355 non-null  float64\n",
      " 28  taxamount                     71351 non-null  float64\n",
      " 29  censustractandblock           71148 non-null  float64\n",
      " 30  logerror                      71356 non-null  float64\n",
      " 31  transactiondate               71356 non-null  object \n",
      " 32  heatingorsystemdesc           46413 non-null  object \n",
      " 33  propertylandusedesc           71356 non-null  object \n",
      "dtypes: float64(27), int64(2), object(5)\n",
      "memory usage: 19.1+ MB\n"
     ]
    }
   ],
   "source": [
    "df.info()"
   ]
  },
  {
   "cell_type": "code",
   "execution_count": 102,
   "metadata": {},
   "outputs": [
    {
     "data": {
      "text/plain": [
       "id                                  0\n",
       "parcelid                            0\n",
       "bathroomcnt                         0\n",
       "bedroomcnt                          0\n",
       "buildingqualitytypeid           26514\n",
       "calculatedbathnbr                  15\n",
       "calculatedfinishedsquarefeet        0\n",
       "finishedsquarefeet12              167\n",
       "fips                                0\n",
       "fullbathcnt                        15\n",
       "heatingorsystemtypeid           24943\n",
       "latitude                            0\n",
       "longitude                           0\n",
       "lotsizesquarefeet                8034\n",
       "propertycountylandusecode           0\n",
       "propertylandusetypeid               0\n",
       "propertyzoningdesc              26221\n",
       "rawcensustractandblock              0\n",
       "regionidcity                     1322\n",
       "regionidcounty                      0\n",
       "regionidzip                        40\n",
       "roomcnt                             0\n",
       "unitcnt                         26195\n",
       "yearbuilt                          35\n",
       "structuretaxvaluedollarcnt         75\n",
       "taxvaluedollarcnt                   1\n",
       "assessmentyear                      0\n",
       "landtaxvaluedollarcnt               1\n",
       "taxamount                           5\n",
       "censustractandblock               208\n",
       "logerror                            0\n",
       "transactiondate                     0\n",
       "heatingorsystemdesc             24943\n",
       "propertylandusedesc                 0\n",
       "dtype: int64"
      ]
     },
     "execution_count": 102,
     "metadata": {},
     "output_type": "execute_result"
    }
   ],
   "source": [
    "# look at number of nulls for each column\n",
    "df.isnull().sum()"
   ]
  },
  {
   "cell_type": "markdown",
   "metadata": {},
   "source": [
    "### 3. Decide how to handle the remaining missing values:\n",
    "\n",
    "- Fill with constant value.\n",
    "- Impute with mean, median, mode.\n",
    "- Drop row/column"
   ]
  },
  {
   "cell_type": "code",
   "execution_count": 103,
   "metadata": {},
   "outputs": [],
   "source": [
    "# use your judgement to remove certain columns which you don't need\n",
    "\n",
    "cols_to_remove = ['id',\n",
    "       'calculatedbathnbr', 'finishedsquarefeet12', 'fullbathcnt', 'heatingorsystemtypeid'\n",
    "       ,'propertycountylandusecode', 'propertylandusetypeid','propertyzoningdesc', \n",
    "        'censustractandblock', 'propertylandusedesc']"
   ]
  },
  {
   "cell_type": "code",
   "execution_count": 104,
   "metadata": {},
   "outputs": [],
   "source": [
    "def remove_columns(df, cols_to_remove):  \n",
    "    df = df.drop(columns=cols_to_remove)\n",
    "    return df"
   ]
  },
  {
   "cell_type": "code",
   "execution_count": 105,
   "metadata": {},
   "outputs": [],
   "source": [
    "# use the function defined above to remove the columns not needed:\n",
    "\n",
    "df = remove_columns(df, cols_to_remove)"
   ]
  },
  {
   "cell_type": "code",
   "execution_count": 106,
   "metadata": {},
   "outputs": [
    {
     "data": {
      "text/plain": [
       "parcelid                            0\n",
       "bathroomcnt                         0\n",
       "bedroomcnt                          0\n",
       "buildingqualitytypeid           26514\n",
       "calculatedfinishedsquarefeet        0\n",
       "fips                                0\n",
       "latitude                            0\n",
       "longitude                           0\n",
       "lotsizesquarefeet                8034\n",
       "rawcensustractandblock              0\n",
       "regionidcity                     1322\n",
       "regionidcounty                      0\n",
       "regionidzip                        40\n",
       "roomcnt                             0\n",
       "unitcnt                         26195\n",
       "yearbuilt                          35\n",
       "structuretaxvaluedollarcnt         75\n",
       "taxvaluedollarcnt                   1\n",
       "assessmentyear                      0\n",
       "landtaxvaluedollarcnt               1\n",
       "taxamount                           5\n",
       "logerror                            0\n",
       "transactiondate                     0\n",
       "heatingorsystemdesc             24943\n",
       "dtype: int64"
      ]
     },
     "execution_count": 106,
     "metadata": {},
     "output_type": "execute_result"
    }
   ],
   "source": [
    "# take a look at null counts again\n",
    "\n",
    "df.isnull().sum()"
   ]
  },
  {
   "cell_type": "code",
   "execution_count": 107,
   "metadata": {},
   "outputs": [
    {
     "data": {
      "text/plain": [
       "Central       31357\n",
       "NaN           24943\n",
       "Floor/Wall    13230\n",
       "Yes             850\n",
       "Forced air      775\n",
       "Solar           101\n",
       "None             60\n",
       "Radiant          23\n",
       "Baseboard        13\n",
       "Gravity           3\n",
       "Heat Pump         1\n",
       "Name: heatingorsystemdesc, dtype: int64"
      ]
     },
     "execution_count": 107,
     "metadata": {},
     "output_type": "execute_result"
    }
   ],
   "source": [
    "# let's look at heatingorsystemdesc value counts\n",
    "\n",
    "df.heatingorsystemdesc.value_counts(dropna = False)"
   ]
  },
  {
   "cell_type": "code",
   "execution_count": 108,
   "metadata": {},
   "outputs": [],
   "source": [
    "# I assume that since this is Southern CA, 'null' probably means 'None' for heating system\n",
    "\n",
    "df.heatingorsystemdesc.fillna('None', inplace = True)"
   ]
  },
  {
   "cell_type": "code",
   "execution_count": 109,
   "metadata": {},
   "outputs": [
    {
     "data": {
      "text/plain": [
       "1.00    45161\n",
       "nan     26195\n",
       "Name: unitcnt, dtype: int64"
      ]
     },
     "execution_count": 109,
     "metadata": {},
     "output_type": "execute_result"
    }
   ],
   "source": [
    "df.unitcnt.value_counts(dropna = False)"
   ]
  },
  {
   "cell_type": "code",
   "execution_count": 110,
   "metadata": {},
   "outputs": [],
   "source": [
    "# For unit counts, I will fill 'NaN' with unit count of 1\n",
    "\n",
    "df.unitcnt.fillna(1, inplace = True)"
   ]
  },
  {
   "cell_type": "code",
   "execution_count": 111,
   "metadata": {},
   "outputs": [
    {
     "data": {
      "text/plain": [
       "nan      26514\n",
       "8.00     13404\n",
       "6.00     12673\n",
       "4.00      8227\n",
       "7.00      5505\n",
       "9.00      2113\n",
       "5.00      1499\n",
       "11.00      846\n",
       "10.00      301\n",
       "3.00       149\n",
       "12.00      113\n",
       "1.00         9\n",
       "2.00         3\n",
       "Name: buildingqualitytypeid, dtype: int64"
      ]
     },
     "execution_count": 111,
     "metadata": {},
     "output_type": "execute_result"
    }
   ],
   "source": [
    "# buildingqualitytypeid\n",
    "# Overall assessment of condition of the building from \n",
    "# low number = best quality\n",
    "# higher numbersw = worse quality\n",
    "\n",
    "df.buildingqualitytypeid.value_counts(dropna = False)"
   ]
  },
  {
   "cell_type": "code",
   "execution_count": 112,
   "metadata": {},
   "outputs": [
    {
     "data": {
      "text/plain": [
       "<AxesSubplot:>"
      ]
     },
     "execution_count": 112,
     "metadata": {},
     "output_type": "execute_result"
    },
    {
     "data": {
      "image/png": "[encoded data removed]",
      "text/plain": [
       "<Figure size 432x288 with 1 Axes>"
      ]
     },
     "metadata": {
      "needs_background": "light"
     },
     "output_type": "display_data"
    }
   ],
   "source": [
    "# look at distrubition of buildingqualitytypeid\n",
    "\n",
    "df.buildingqualitytypeid.hist()"
   ]
  },
  {
   "cell_type": "code",
   "execution_count": 113,
   "metadata": {},
   "outputs": [
    {
     "data": {
      "text/plain": [
       "6.0"
      ]
     },
     "execution_count": 113,
     "metadata": {},
     "output_type": "execute_result"
    }
   ],
   "source": [
    "df.buildingqualitytypeid.median()"
   ]
  },
  {
   "cell_type": "code",
   "execution_count": 114,
   "metadata": {},
   "outputs": [],
   "source": [
    "# fill missing values for buildingqualitytypeid with median value\n",
    "df.buildingqualitytypeid.fillna(6.0, inplace = True)"
   ]
  },
  {
   "cell_type": "code",
   "execution_count": 115,
   "metadata": {},
   "outputs": [
    {
     "data": {
      "text/plain": [
       "parcelid                           0\n",
       "bathroomcnt                        0\n",
       "bedroomcnt                         0\n",
       "buildingqualitytypeid              0\n",
       "calculatedfinishedsquarefeet       0\n",
       "fips                               0\n",
       "latitude                           0\n",
       "longitude                          0\n",
       "lotsizesquarefeet               8034\n",
       "rawcensustractandblock             0\n",
       "regionidcity                    1322\n",
       "regionidcounty                     0\n",
       "regionidzip                       40\n",
       "roomcnt                            0\n",
       "unitcnt                            0\n",
       "yearbuilt                         35\n",
       "structuretaxvaluedollarcnt        75\n",
       "taxvaluedollarcnt                  1\n",
       "assessmentyear                     0\n",
       "landtaxvaluedollarcnt              1\n",
       "taxamount                          5\n",
       "logerror                           0\n",
       "transactiondate                    0\n",
       "heatingorsystemdesc                0\n",
       "dtype: int64"
      ]
     },
     "execution_count": 115,
     "metadata": {},
     "output_type": "execute_result"
    }
   ],
   "source": [
    "df.isnull().sum()"
   ]
  },
  {
   "cell_type": "code",
   "execution_count": 116,
   "metadata": {},
   "outputs": [
    {
     "data": {
      "text/plain": [
       "<AxesSubplot:>"
      ]
     },
     "execution_count": 116,
     "metadata": {},
     "output_type": "execute_result"
    },
    {
     "data": {
      "image/png": "[encoded data removed]",
      "text/plain": [
       "<Figure size 432x288 with 1 Axes>"
      ]
     },
     "metadata": {
      "needs_background": "light"
     },
     "output_type": "display_data"
    }
   ],
   "source": [
    "# look at lot-size distribution\n",
    "df.lotsizesquarefeet.hist()"
   ]
  },
  {
   "cell_type": "code",
   "execution_count": 117,
   "metadata": {},
   "outputs": [
    {
     "data": {
      "text/plain": [
       "7313.0"
      ]
     },
     "execution_count": 117,
     "metadata": {},
     "output_type": "execute_result"
    }
   ],
   "source": [
    "# what is the median lot size?\n",
    "\n",
    "df.lotsizesquarefeet.median()"
   ]
  },
  {
   "cell_type": "code",
   "execution_count": 118,
   "metadata": {},
   "outputs": [],
   "source": [
    "# fill missing values with median null sizes\n",
    "\n",
    "df.lotsizesquarefeet.fillna(7313, inplace = True)"
   ]
  },
  {
   "cell_type": "code",
   "execution_count": 119,
   "metadata": {},
   "outputs": [
    {
     "data": {
      "text/plain": [
       "parcelid                           0\n",
       "bathroomcnt                        0\n",
       "bedroomcnt                         0\n",
       "buildingqualitytypeid              0\n",
       "calculatedfinishedsquarefeet       0\n",
       "fips                               0\n",
       "latitude                           0\n",
       "longitude                          0\n",
       "lotsizesquarefeet                  0\n",
       "rawcensustractandblock             0\n",
       "regionidcity                    1322\n",
       "regionidcounty                     0\n",
       "regionidzip                       40\n",
       "roomcnt                            0\n",
       "unitcnt                            0\n",
       "yearbuilt                         35\n",
       "structuretaxvaluedollarcnt        75\n",
       "taxvaluedollarcnt                  1\n",
       "assessmentyear                     0\n",
       "landtaxvaluedollarcnt              1\n",
       "taxamount                          5\n",
       "logerror                           0\n",
       "transactiondate                    0\n",
       "heatingorsystemdesc                0\n",
       "dtype: int64"
      ]
     },
     "execution_count": 119,
     "metadata": {},
     "output_type": "execute_result"
    }
   ],
   "source": [
    "df.isnull().sum()"
   ]
  },
  {
   "cell_type": "code",
   "execution_count": 120,
   "metadata": {},
   "outputs": [],
   "source": [
    "# I am going to drop the rest of nulls \n",
    "\n",
    "df.dropna(inplace = True)"
   ]
  },
  {
   "cell_type": "code",
   "execution_count": 121,
   "metadata": {},
   "outputs": [
    {
     "data": {
      "text/plain": [
       "(69920, 24)"
      ]
     },
     "execution_count": 121,
     "metadata": {},
     "output_type": "execute_result"
    }
   ],
   "source": [
    "# How many rows and columns are left?\n",
    "\n",
    "df.shape"
   ]
  },
  {
   "cell_type": "code",
   "execution_count": 122,
   "metadata": {},
   "outputs": [
    {
     "data": {
      "text/html": [
       "<div>\n",
       "<style scoped>\n",
       "    .dataframe tbody tr th:only-of-type {\n",
       "        vertical-align: middle;\n",
       "    }\n",
       "\n",
       "    .dataframe tbody tr th {\n",
       "        vertical-align: top;\n",
       "    }\n",
       "\n",
       "    .dataframe thead th {\n",
       "        text-align: right;\n",
       "    }\n",
       "</style>\n",
       "<table border=\"1\" class=\"dataframe\">\n",
       "  <thead>\n",
       "    <tr style=\"text-align: right;\">\n",
       "      <th></th>\n",
       "      <th>parcelid</th>\n",
       "      <th>bathroomcnt</th>\n",
       "      <th>bedroomcnt</th>\n",
       "      <th>buildingqualitytypeid</th>\n",
       "      <th>calculatedfinishedsquarefeet</th>\n",
       "      <th>fips</th>\n",
       "      <th>latitude</th>\n",
       "      <th>longitude</th>\n",
       "      <th>lotsizesquarefeet</th>\n",
       "      <th>rawcensustractandblock</th>\n",
       "      <th>...</th>\n",
       "      <th>unitcnt</th>\n",
       "      <th>yearbuilt</th>\n",
       "      <th>structuretaxvaluedollarcnt</th>\n",
       "      <th>taxvaluedollarcnt</th>\n",
       "      <th>assessmentyear</th>\n",
       "      <th>landtaxvaluedollarcnt</th>\n",
       "      <th>taxamount</th>\n",
       "      <th>logerror</th>\n",
       "      <th>transactiondate</th>\n",
       "      <th>heatingorsystemdesc</th>\n",
       "    </tr>\n",
       "  </thead>\n",
       "  <tbody>\n",
       "    <tr>\n",
       "      <th>0</th>\n",
       "      <td>10711855</td>\n",
       "      <td>2.00</td>\n",
       "      <td>3.00</td>\n",
       "      <td>8.00</td>\n",
       "      <td>2107.00</td>\n",
       "      <td>6037.00</td>\n",
       "      <td>34222559.00</td>\n",
       "      <td>-118617387.00</td>\n",
       "      <td>9158.00</td>\n",
       "      <td>60371132.32</td>\n",
       "      <td>...</td>\n",
       "      <td>1.00</td>\n",
       "      <td>1972.00</td>\n",
       "      <td>249655.00</td>\n",
       "      <td>624139.00</td>\n",
       "      <td>2016.00</td>\n",
       "      <td>374484.00</td>\n",
       "      <td>7659.36</td>\n",
       "      <td>-0.01</td>\n",
       "      <td>2017-07-07</td>\n",
       "      <td>Central</td>\n",
       "    </tr>\n",
       "    <tr>\n",
       "      <th>1</th>\n",
       "      <td>10711877</td>\n",
       "      <td>2.00</td>\n",
       "      <td>4.00</td>\n",
       "      <td>8.00</td>\n",
       "      <td>1882.00</td>\n",
       "      <td>6037.00</td>\n",
       "      <td>34220261.00</td>\n",
       "      <td>-118616409.00</td>\n",
       "      <td>9035.00</td>\n",
       "      <td>60371132.32</td>\n",
       "      <td>...</td>\n",
       "      <td>1.00</td>\n",
       "      <td>1972.00</td>\n",
       "      <td>253000.00</td>\n",
       "      <td>660000.00</td>\n",
       "      <td>2016.00</td>\n",
       "      <td>407000.00</td>\n",
       "      <td>8123.91</td>\n",
       "      <td>0.02</td>\n",
       "      <td>2017-08-29</td>\n",
       "      <td>Central</td>\n",
       "    </tr>\n",
       "    <tr>\n",
       "      <th>2</th>\n",
       "      <td>10711888</td>\n",
       "      <td>2.00</td>\n",
       "      <td>4.00</td>\n",
       "      <td>8.00</td>\n",
       "      <td>1882.00</td>\n",
       "      <td>6037.00</td>\n",
       "      <td>34222491.00</td>\n",
       "      <td>-118616854.00</td>\n",
       "      <td>9800.00</td>\n",
       "      <td>60371132.32</td>\n",
       "      <td>...</td>\n",
       "      <td>1.00</td>\n",
       "      <td>1972.00</td>\n",
       "      <td>257591.00</td>\n",
       "      <td>542923.00</td>\n",
       "      <td>2016.00</td>\n",
       "      <td>285332.00</td>\n",
       "      <td>6673.24</td>\n",
       "      <td>0.08</td>\n",
       "      <td>2017-04-04</td>\n",
       "      <td>Central</td>\n",
       "    </tr>\n",
       "    <tr>\n",
       "      <th>3</th>\n",
       "      <td>10711910</td>\n",
       "      <td>2.00</td>\n",
       "      <td>3.00</td>\n",
       "      <td>8.00</td>\n",
       "      <td>1477.00</td>\n",
       "      <td>6037.00</td>\n",
       "      <td>34221864.00</td>\n",
       "      <td>-118615739.00</td>\n",
       "      <td>11285.00</td>\n",
       "      <td>60371132.32</td>\n",
       "      <td>...</td>\n",
       "      <td>1.00</td>\n",
       "      <td>1960.00</td>\n",
       "      <td>57968.00</td>\n",
       "      <td>78031.00</td>\n",
       "      <td>2016.00</td>\n",
       "      <td>20063.00</td>\n",
       "      <td>1116.46</td>\n",
       "      <td>-0.04</td>\n",
       "      <td>2017-03-17</td>\n",
       "      <td>Central</td>\n",
       "    </tr>\n",
       "    <tr>\n",
       "      <th>4</th>\n",
       "      <td>10711923</td>\n",
       "      <td>2.00</td>\n",
       "      <td>4.00</td>\n",
       "      <td>8.00</td>\n",
       "      <td>1918.00</td>\n",
       "      <td>6037.00</td>\n",
       "      <td>34220619.00</td>\n",
       "      <td>-118615253.00</td>\n",
       "      <td>11239.00</td>\n",
       "      <td>60371132.32</td>\n",
       "      <td>...</td>\n",
       "      <td>1.00</td>\n",
       "      <td>1960.00</td>\n",
       "      <td>167869.00</td>\n",
       "      <td>415459.00</td>\n",
       "      <td>2016.00</td>\n",
       "      <td>247590.00</td>\n",
       "      <td>5239.85</td>\n",
       "      <td>-0.01</td>\n",
       "      <td>2017-03-24</td>\n",
       "      <td>Central</td>\n",
       "    </tr>\n",
       "  </tbody>\n",
       "</table>\n",
       "<p>5 rows × 24 columns</p>\n",
       "</div>"
      ],
      "text/plain": [
       "   parcelid  bathroomcnt  bedroomcnt  buildingqualitytypeid  \\\n",
       "0  10711855         2.00        3.00                   8.00   \n",
       "1  10711877         2.00        4.00                   8.00   \n",
       "2  10711888         2.00        4.00                   8.00   \n",
       "3  10711910         2.00        3.00                   8.00   \n",
       "4  10711923         2.00        4.00                   8.00   \n",
       "\n",
       "   calculatedfinishedsquarefeet    fips    latitude     longitude  \\\n",
       "0                       2107.00 6037.00 34222559.00 -118617387.00   \n",
       "1                       1882.00 6037.00 34220261.00 -118616409.00   \n",
       "2                       1882.00 6037.00 34222491.00 -118616854.00   \n",
       "3                       1477.00 6037.00 34221864.00 -118615739.00   \n",
       "4                       1918.00 6037.00 34220619.00 -118615253.00   \n",
       "\n",
       "   lotsizesquarefeet  rawcensustractandblock  ...  unitcnt  yearbuilt  \\\n",
       "0            9158.00             60371132.32  ...     1.00    1972.00   \n",
       "1            9035.00             60371132.32  ...     1.00    1972.00   \n",
       "2            9800.00             60371132.32  ...     1.00    1972.00   \n",
       "3           11285.00             60371132.32  ...     1.00    1960.00   \n",
       "4           11239.00             60371132.32  ...     1.00    1960.00   \n",
       "\n",
       "   structuretaxvaluedollarcnt  taxvaluedollarcnt  assessmentyear  \\\n",
       "0                   249655.00          624139.00         2016.00   \n",
       "1                   253000.00          660000.00         2016.00   \n",
       "2                   257591.00          542923.00         2016.00   \n",
       "3                    57968.00           78031.00         2016.00   \n",
       "4                   167869.00          415459.00         2016.00   \n",
       "\n",
       "   landtaxvaluedollarcnt  taxamount  logerror  transactiondate  \\\n",
       "0              374484.00    7659.36     -0.01       2017-07-07   \n",
       "1              407000.00    8123.91      0.02       2017-08-29   \n",
       "2              285332.00    6673.24      0.08       2017-04-04   \n",
       "3               20063.00    1116.46     -0.04       2017-03-17   \n",
       "4              247590.00    5239.85     -0.01       2017-03-24   \n",
       "\n",
       "   heatingorsystemdesc  \n",
       "0              Central  \n",
       "1              Central  \n",
       "2              Central  \n",
       "3              Central  \n",
       "4              Central  \n",
       "\n",
       "[5 rows x 24 columns]"
      ]
     },
     "execution_count": 122,
     "metadata": {},
     "output_type": "execute_result"
    }
   ],
   "source": [
    "df.head()"
   ]
  },
  {
   "cell_type": "code",
   "execution_count": 123,
   "metadata": {},
   "outputs": [
    {
     "data": {
      "text/plain": [
       "<AxesSubplot:ylabel='taxvaluedollarcnt'>"
      ]
     },
     "execution_count": 123,
     "metadata": {},
     "output_type": "execute_result"
    },
    {
     "data": {
      "image/png": "[encoded data removed]",
      "text/plain": [
       "<Figure size 432x288 with 1 Axes>"
      ]
     },
     "metadata": {
      "needs_background": "light"
     },
     "output_type": "display_data"
    }
   ],
   "source": [
    "#check for outliers\n",
    "sns.boxplot(y = 'taxvaluedollarcnt', data = df)"
   ]
  },
  {
   "cell_type": "code",
   "execution_count": 124,
   "metadata": {},
   "outputs": [
    {
     "data": {
      "image/png": "[encoded data removed]",
      "text/plain": [
       "<Figure size 432x288 with 1 Axes>"
      ]
     },
     "metadata": {
      "needs_background": "light"
     },
     "output_type": "display_data"
    }
   ],
   "source": [
    "#Histograms for taxvalue of properties\n",
    "\n",
    "plt.hist(df.taxvaluedollarcnt);"
   ]
  },
  {
   "cell_type": "code",
   "execution_count": 125,
   "metadata": {},
   "outputs": [
    {
     "data": {
      "image/png": "[encoded data removed]",
      "text/plain": [
       "<Figure size 432x288 with 1 Axes>"
      ]
     },
     "metadata": {
      "needs_background": "light"
     },
     "output_type": "display_data"
    }
   ],
   "source": [
    "#Histograms for covered sq ft of properties\n",
    "\n",
    "plt.hist(df.calculatedfinishedsquarefeet);"
   ]
  },
  {
   "cell_type": "code",
   "execution_count": 126,
   "metadata": {},
   "outputs": [
    {
     "data": {
      "image/png": "[encoded data removed]",
      "text/plain": [
       "<Figure size 1728x720 with 25 Axes>"
      ]
     },
     "metadata": {
      "needs_background": "light"
     },
     "output_type": "display_data"
    }
   ],
   "source": [
    "# look at distributions for all columns\n",
    "\n",
    "df.hist(figsize=(24, 10), bins=20)\n",
    "plt.tight_layout();"
   ]
  },
  {
   "cell_type": "code",
   "execution_count": 127,
   "metadata": {},
   "outputs": [
    {
     "data": {
      "text/plain": [
       "(69730, 24)"
      ]
     },
     "execution_count": 127,
     "metadata": {},
     "output_type": "execute_result"
    }
   ],
   "source": [
    "# Remove properties valued more than 5 million dollars\n",
    "\n",
    "df = df[df.taxvaluedollarcnt < 5_000_000]\n",
    "df.shape"
   ]
  },
  {
   "cell_type": "code",
   "execution_count": 128,
   "metadata": {},
   "outputs": [
    {
     "data": {
      "text/plain": [
       "(69730, 24)"
      ]
     },
     "execution_count": 128,
     "metadata": {},
     "output_type": "execute_result"
    }
   ],
   "source": [
    "# Remove properties valued more than 8000 square feet\n",
    "\n",
    "df[df.calculatedfinishedsquarefeet < 8000]\n",
    "df.shape"
   ]
  },
  {
   "cell_type": "markdown",
   "metadata": {},
   "source": [
    "**wrangle_zillow.py**\n",
    "Functions of the work above needed to acquire and prepare a new sample of data."
   ]
  },
  {
   "cell_type": "code",
   "execution_count": 129,
   "metadata": {},
   "outputs": [],
   "source": [
    "# Function to read and wrangle data:\n",
    "\n",
    "def wrangle_zillow():\n",
    "    df = pd.read_csv('zillow.csv')\n",
    "    \n",
    "    # Restrict df to only properties that meet single unit use criteria\n",
    "    single_use = [261, 262, 263, 264, 266, 268, 273, 276, 279]\n",
    "    df = df[df.propertylandusetypeid.isin(single_use)]\n",
    "    \n",
    "    # Restrict df to only those properties with at least 1 bath & bed and 350 sqft area\n",
    "    df = df[(df.bedroomcnt > 0) & (df.bathroomcnt > 0) & ((df.unitcnt<=1)|df.unitcnt.isnull())\\\n",
    "            & (df.calculatedfinishedsquarefeet>350)]\n",
    "\n",
    "    # Handle missing values i.e. drop columns and rows based on a threshold\n",
    "    df = handle_missing_values(df)\n",
    "    \n",
    "    # Add column for counties\n",
    "    df['county'] = np.where(df.fips == 6037, 'Los_Angeles',\n",
    "                           np.where(df.fips == 6059, 'Orange', \n",
    "                                   'Ventura'))    \n",
    "    # drop columns not needed\n",
    "    df = remove_columns(df, ['id',\n",
    "       'calculatedbathnbr', 'finishedsquarefeet12', 'fullbathcnt', 'heatingorsystemtypeid'\n",
    "       ,'propertycountylandusecode', 'propertylandusetypeid','propertyzoningdesc', \n",
    "        'censustractandblock', 'propertylandusedesc'])\n",
    "\n",
    "\n",
    "    # replace nulls in unitcnt with 1\n",
    "    df.unitcnt.fillna(1, inplace = True)\n",
    "    \n",
    "    # assume that since this is Southern CA, null means 'None' for heating system\n",
    "    df.heatingorsystemdesc.fillna('None', inplace = True)\n",
    "    \n",
    "    # replace nulls with median values for select columns\n",
    "    df.lotsizesquarefeet.fillna(7313, inplace = True)\n",
    "    df.buildingqualitytypeid.fillna(6.0, inplace = True)\n",
    "\n",
    "    # Columns to look for outliers\n",
    "    df = df[df.taxvaluedollarcnt < 5_000_000]\n",
    "    df[df.calculatedfinishedsquarefeet < 8000]\n",
    "    \n",
    "    # Just to be sure we caught all nulls, drop them here\n",
    "    df = df.dropna()\n",
    "    \n",
    "    return df"
   ]
  },
  {
   "cell_type": "code",
   "execution_count": 130,
   "metadata": {},
   "outputs": [
    {
     "data": {
      "text/html": [
       "<div>\n",
       "<style scoped>\n",
       "    .dataframe tbody tr th:only-of-type {\n",
       "        vertical-align: middle;\n",
       "    }\n",
       "\n",
       "    .dataframe tbody tr th {\n",
       "        vertical-align: top;\n",
       "    }\n",
       "\n",
       "    .dataframe thead th {\n",
       "        text-align: right;\n",
       "    }\n",
       "</style>\n",
       "<table border=\"1\" class=\"dataframe\">\n",
       "  <thead>\n",
       "    <tr style=\"text-align: right;\">\n",
       "      <th></th>\n",
       "      <th>parcelid</th>\n",
       "      <th>bathroomcnt</th>\n",
       "      <th>bedroomcnt</th>\n",
       "      <th>buildingqualitytypeid</th>\n",
       "      <th>calculatedfinishedsquarefeet</th>\n",
       "      <th>fips</th>\n",
       "      <th>latitude</th>\n",
       "      <th>longitude</th>\n",
       "      <th>lotsizesquarefeet</th>\n",
       "      <th>rawcensustractandblock</th>\n",
       "      <th>...</th>\n",
       "      <th>yearbuilt</th>\n",
       "      <th>structuretaxvaluedollarcnt</th>\n",
       "      <th>taxvaluedollarcnt</th>\n",
       "      <th>assessmentyear</th>\n",
       "      <th>landtaxvaluedollarcnt</th>\n",
       "      <th>taxamount</th>\n",
       "      <th>logerror</th>\n",
       "      <th>transactiondate</th>\n",
       "      <th>heatingorsystemdesc</th>\n",
       "      <th>county</th>\n",
       "    </tr>\n",
       "  </thead>\n",
       "  <tbody>\n",
       "    <tr>\n",
       "      <th>0</th>\n",
       "      <td>10711855</td>\n",
       "      <td>2.00</td>\n",
       "      <td>3.00</td>\n",
       "      <td>8.00</td>\n",
       "      <td>2107.00</td>\n",
       "      <td>6037.00</td>\n",
       "      <td>34222559.00</td>\n",
       "      <td>-118617387.00</td>\n",
       "      <td>9158.00</td>\n",
       "      <td>60371132.32</td>\n",
       "      <td>...</td>\n",
       "      <td>1972.00</td>\n",
       "      <td>249655.00</td>\n",
       "      <td>624139.00</td>\n",
       "      <td>2016.00</td>\n",
       "      <td>374484.00</td>\n",
       "      <td>7659.36</td>\n",
       "      <td>-0.01</td>\n",
       "      <td>2017-07-07</td>\n",
       "      <td>Central</td>\n",
       "      <td>Los_Angeles</td>\n",
       "    </tr>\n",
       "    <tr>\n",
       "      <th>1</th>\n",
       "      <td>10711877</td>\n",
       "      <td>2.00</td>\n",
       "      <td>4.00</td>\n",
       "      <td>8.00</td>\n",
       "      <td>1882.00</td>\n",
       "      <td>6037.00</td>\n",
       "      <td>34220261.00</td>\n",
       "      <td>-118616409.00</td>\n",
       "      <td>9035.00</td>\n",
       "      <td>60371132.32</td>\n",
       "      <td>...</td>\n",
       "      <td>1972.00</td>\n",
       "      <td>253000.00</td>\n",
       "      <td>660000.00</td>\n",
       "      <td>2016.00</td>\n",
       "      <td>407000.00</td>\n",
       "      <td>8123.91</td>\n",
       "      <td>0.02</td>\n",
       "      <td>2017-08-29</td>\n",
       "      <td>Central</td>\n",
       "      <td>Los_Angeles</td>\n",
       "    </tr>\n",
       "    <tr>\n",
       "      <th>2</th>\n",
       "      <td>10711888</td>\n",
       "      <td>2.00</td>\n",
       "      <td>4.00</td>\n",
       "      <td>8.00</td>\n",
       "      <td>1882.00</td>\n",
       "      <td>6037.00</td>\n",
       "      <td>34222491.00</td>\n",
       "      <td>-118616854.00</td>\n",
       "      <td>9800.00</td>\n",
       "      <td>60371132.32</td>\n",
       "      <td>...</td>\n",
       "      <td>1972.00</td>\n",
       "      <td>257591.00</td>\n",
       "      <td>542923.00</td>\n",
       "      <td>2016.00</td>\n",
       "      <td>285332.00</td>\n",
       "      <td>6673.24</td>\n",
       "      <td>0.08</td>\n",
       "      <td>2017-04-04</td>\n",
       "      <td>Central</td>\n",
       "      <td>Los_Angeles</td>\n",
       "    </tr>\n",
       "    <tr>\n",
       "      <th>3</th>\n",
       "      <td>10711910</td>\n",
       "      <td>2.00</td>\n",
       "      <td>3.00</td>\n",
       "      <td>8.00</td>\n",
       "      <td>1477.00</td>\n",
       "      <td>6037.00</td>\n",
       "      <td>34221864.00</td>\n",
       "      <td>-118615739.00</td>\n",
       "      <td>11285.00</td>\n",
       "      <td>60371132.32</td>\n",
       "      <td>...</td>\n",
       "      <td>1960.00</td>\n",
       "      <td>57968.00</td>\n",
       "      <td>78031.00</td>\n",
       "      <td>2016.00</td>\n",
       "      <td>20063.00</td>\n",
       "      <td>1116.46</td>\n",
       "      <td>-0.04</td>\n",
       "      <td>2017-03-17</td>\n",
       "      <td>Central</td>\n",
       "      <td>Los_Angeles</td>\n",
       "    </tr>\n",
       "    <tr>\n",
       "      <th>4</th>\n",
       "      <td>10711923</td>\n",
       "      <td>2.00</td>\n",
       "      <td>4.00</td>\n",
       "      <td>8.00</td>\n",
       "      <td>1918.00</td>\n",
       "      <td>6037.00</td>\n",
       "      <td>34220619.00</td>\n",
       "      <td>-118615253.00</td>\n",
       "      <td>11239.00</td>\n",
       "      <td>60371132.32</td>\n",
       "      <td>...</td>\n",
       "      <td>1960.00</td>\n",
       "      <td>167869.00</td>\n",
       "      <td>415459.00</td>\n",
       "      <td>2016.00</td>\n",
       "      <td>247590.00</td>\n",
       "      <td>5239.85</td>\n",
       "      <td>-0.01</td>\n",
       "      <td>2017-03-24</td>\n",
       "      <td>Central</td>\n",
       "      <td>Los_Angeles</td>\n",
       "    </tr>\n",
       "  </tbody>\n",
       "</table>\n",
       "<p>5 rows × 25 columns</p>\n",
       "</div>"
      ],
      "text/plain": [
       "   parcelid  bathroomcnt  bedroomcnt  buildingqualitytypeid  \\\n",
       "0  10711855         2.00        3.00                   8.00   \n",
       "1  10711877         2.00        4.00                   8.00   \n",
       "2  10711888         2.00        4.00                   8.00   \n",
       "3  10711910         2.00        3.00                   8.00   \n",
       "4  10711923         2.00        4.00                   8.00   \n",
       "\n",
       "   calculatedfinishedsquarefeet    fips    latitude     longitude  \\\n",
       "0                       2107.00 6037.00 34222559.00 -118617387.00   \n",
       "1                       1882.00 6037.00 34220261.00 -118616409.00   \n",
       "2                       1882.00 6037.00 34222491.00 -118616854.00   \n",
       "3                       1477.00 6037.00 34221864.00 -118615739.00   \n",
       "4                       1918.00 6037.00 34220619.00 -118615253.00   \n",
       "\n",
       "   lotsizesquarefeet  rawcensustractandblock  ...  yearbuilt  \\\n",
       "0            9158.00             60371132.32  ...    1972.00   \n",
       "1            9035.00             60371132.32  ...    1972.00   \n",
       "2            9800.00             60371132.32  ...    1972.00   \n",
       "3           11285.00             60371132.32  ...    1960.00   \n",
       "4           11239.00             60371132.32  ...    1960.00   \n",
       "\n",
       "   structuretaxvaluedollarcnt  taxvaluedollarcnt  assessmentyear  \\\n",
       "0                   249655.00          624139.00         2016.00   \n",
       "1                   253000.00          660000.00         2016.00   \n",
       "2                   257591.00          542923.00         2016.00   \n",
       "3                    57968.00           78031.00         2016.00   \n",
       "4                   167869.00          415459.00         2016.00   \n",
       "\n",
       "   landtaxvaluedollarcnt  taxamount  logerror  transactiondate  \\\n",
       "0              374484.00    7659.36     -0.01       2017-07-07   \n",
       "1              407000.00    8123.91      0.02       2017-08-29   \n",
       "2              285332.00    6673.24      0.08       2017-04-04   \n",
       "3               20063.00    1116.46     -0.04       2017-03-17   \n",
       "4              247590.00    5239.85     -0.01       2017-03-24   \n",
       "\n",
       "   heatingorsystemdesc       county  \n",
       "0              Central  Los_Angeles  \n",
       "1              Central  Los_Angeles  \n",
       "2              Central  Los_Angeles  \n",
       "3              Central  Los_Angeles  \n",
       "4              Central  Los_Angeles  \n",
       "\n",
       "[5 rows x 25 columns]"
      ]
     },
     "execution_count": 130,
     "metadata": {},
     "output_type": "execute_result"
    }
   ],
   "source": [
    "df = wrangle_zillow()\n",
    "df.head()"
   ]
  },
  {
   "cell_type": "code",
   "execution_count": 6,
   "metadata": {},
   "outputs": [
    {
     "data": {
      "text/html": [
       "<div>\n",
       "<style scoped>\n",
       "    .dataframe tbody tr th:only-of-type {\n",
       "        vertical-align: middle;\n",
       "    }\n",
       "\n",
       "    .dataframe tbody tr th {\n",
       "        vertical-align: top;\n",
       "    }\n",
       "\n",
       "    .dataframe thead th {\n",
       "        text-align: right;\n",
       "    }\n",
       "</style>\n",
       "<table border=\"1\" class=\"dataframe\">\n",
       "  <thead>\n",
       "    <tr style=\"text-align: right;\">\n",
       "      <th></th>\n",
       "      <th>parcelid</th>\n",
       "      <th>bathroomcnt</th>\n",
       "      <th>bedroomcnt</th>\n",
       "      <th>buildingqualitytypeid</th>\n",
       "      <th>calculatedfinishedsquarefeet</th>\n",
       "      <th>fips</th>\n",
       "      <th>latitude</th>\n",
       "      <th>longitude</th>\n",
       "      <th>lotsizesquarefeet</th>\n",
       "      <th>rawcensustractandblock</th>\n",
       "      <th>...</th>\n",
       "      <th>yearbuilt</th>\n",
       "      <th>structuretaxvaluedollarcnt</th>\n",
       "      <th>taxvaluedollarcnt</th>\n",
       "      <th>assessmentyear</th>\n",
       "      <th>landtaxvaluedollarcnt</th>\n",
       "      <th>taxamount</th>\n",
       "      <th>logerror</th>\n",
       "      <th>transactiondate</th>\n",
       "      <th>heatingorsystemdesc</th>\n",
       "      <th>county</th>\n",
       "    </tr>\n",
       "  </thead>\n",
       "  <tbody>\n",
       "    <tr>\n",
       "      <th>0</th>\n",
       "      <td>10711855</td>\n",
       "      <td>2.00</td>\n",
       "      <td>3.00</td>\n",
       "      <td>8.00</td>\n",
       "      <td>2107.00</td>\n",
       "      <td>6037.00</td>\n",
       "      <td>34222559.00</td>\n",
       "      <td>-118617387.00</td>\n",
       "      <td>9158.00</td>\n",
       "      <td>60371132.32</td>\n",
       "      <td>...</td>\n",
       "      <td>1972.00</td>\n",
       "      <td>249655.00</td>\n",
       "      <td>624139.00</td>\n",
       "      <td>2016.00</td>\n",
       "      <td>374484.00</td>\n",
       "      <td>7659.36</td>\n",
       "      <td>-0.01</td>\n",
       "      <td>2017-07-07</td>\n",
       "      <td>Central</td>\n",
       "      <td>Los_Angeles</td>\n",
       "    </tr>\n",
       "    <tr>\n",
       "      <th>1</th>\n",
       "      <td>10711877</td>\n",
       "      <td>2.00</td>\n",
       "      <td>4.00</td>\n",
       "      <td>8.00</td>\n",
       "      <td>1882.00</td>\n",
       "      <td>6037.00</td>\n",
       "      <td>34220261.00</td>\n",
       "      <td>-118616409.00</td>\n",
       "      <td>9035.00</td>\n",
       "      <td>60371132.32</td>\n",
       "      <td>...</td>\n",
       "      <td>1972.00</td>\n",
       "      <td>253000.00</td>\n",
       "      <td>660000.00</td>\n",
       "      <td>2016.00</td>\n",
       "      <td>407000.00</td>\n",
       "      <td>8123.91</td>\n",
       "      <td>0.02</td>\n",
       "      <td>2017-08-29</td>\n",
       "      <td>Central</td>\n",
       "      <td>Los_Angeles</td>\n",
       "    </tr>\n",
       "    <tr>\n",
       "      <th>2</th>\n",
       "      <td>10711888</td>\n",
       "      <td>2.00</td>\n",
       "      <td>4.00</td>\n",
       "      <td>8.00</td>\n",
       "      <td>1882.00</td>\n",
       "      <td>6037.00</td>\n",
       "      <td>34222491.00</td>\n",
       "      <td>-118616854.00</td>\n",
       "      <td>9800.00</td>\n",
       "      <td>60371132.32</td>\n",
       "      <td>...</td>\n",
       "      <td>1972.00</td>\n",
       "      <td>257591.00</td>\n",
       "      <td>542923.00</td>\n",
       "      <td>2016.00</td>\n",
       "      <td>285332.00</td>\n",
       "      <td>6673.24</td>\n",
       "      <td>0.08</td>\n",
       "      <td>2017-04-04</td>\n",
       "      <td>Central</td>\n",
       "      <td>Los_Angeles</td>\n",
       "    </tr>\n",
       "    <tr>\n",
       "      <th>3</th>\n",
       "      <td>10711910</td>\n",
       "      <td>2.00</td>\n",
       "      <td>3.00</td>\n",
       "      <td>8.00</td>\n",
       "      <td>1477.00</td>\n",
       "      <td>6037.00</td>\n",
       "      <td>34221864.00</td>\n",
       "      <td>-118615739.00</td>\n",
       "      <td>11285.00</td>\n",
       "      <td>60371132.32</td>\n",
       "      <td>...</td>\n",
       "      <td>1960.00</td>\n",
       "      <td>57968.00</td>\n",
       "      <td>78031.00</td>\n",
       "      <td>2016.00</td>\n",
       "      <td>20063.00</td>\n",
       "      <td>1116.46</td>\n",
       "      <td>-0.04</td>\n",
       "      <td>2017-03-17</td>\n",
       "      <td>Central</td>\n",
       "      <td>Los_Angeles</td>\n",
       "    </tr>\n",
       "    <tr>\n",
       "      <th>4</th>\n",
       "      <td>10711923</td>\n",
       "      <td>2.00</td>\n",
       "      <td>4.00</td>\n",
       "      <td>8.00</td>\n",
       "      <td>1918.00</td>\n",
       "      <td>6037.00</td>\n",
       "      <td>34220619.00</td>\n",
       "      <td>-118615253.00</td>\n",
       "      <td>11239.00</td>\n",
       "      <td>60371132.32</td>\n",
       "      <td>...</td>\n",
       "      <td>1960.00</td>\n",
       "      <td>167869.00</td>\n",
       "      <td>415459.00</td>\n",
       "      <td>2016.00</td>\n",
       "      <td>247590.00</td>\n",
       "      <td>5239.85</td>\n",
       "      <td>-0.01</td>\n",
       "      <td>2017-03-24</td>\n",
       "      <td>Central</td>\n",
       "      <td>Los_Angeles</td>\n",
       "    </tr>\n",
       "    <tr>\n",
       "      <th>...</th>\n",
       "      <td>...</td>\n",
       "      <td>...</td>\n",
       "      <td>...</td>\n",
       "      <td>...</td>\n",
       "      <td>...</td>\n",
       "      <td>...</td>\n",
       "      <td>...</td>\n",
       "      <td>...</td>\n",
       "      <td>...</td>\n",
       "      <td>...</td>\n",
       "      <td>...</td>\n",
       "      <td>...</td>\n",
       "      <td>...</td>\n",
       "      <td>...</td>\n",
       "      <td>...</td>\n",
       "      <td>...</td>\n",
       "      <td>...</td>\n",
       "      <td>...</td>\n",
       "      <td>...</td>\n",
       "      <td>...</td>\n",
       "      <td>...</td>\n",
       "    </tr>\n",
       "    <tr>\n",
       "      <th>77545</th>\n",
       "      <td>93577187</td>\n",
       "      <td>2.00</td>\n",
       "      <td>2.00</td>\n",
       "      <td>6.00</td>\n",
       "      <td>900.00</td>\n",
       "      <td>6111.00</td>\n",
       "      <td>34212400.00</td>\n",
       "      <td>-119027000.00</td>\n",
       "      <td>7313.00</td>\n",
       "      <td>61110056.00</td>\n",
       "      <td>...</td>\n",
       "      <td>2006.00</td>\n",
       "      <td>108211.00</td>\n",
       "      <td>309621.00</td>\n",
       "      <td>2016.00</td>\n",
       "      <td>201410.00</td>\n",
       "      <td>3280.22</td>\n",
       "      <td>0.02</td>\n",
       "      <td>2017-03-15</td>\n",
       "      <td>None</td>\n",
       "      <td>Ventura</td>\n",
       "    </tr>\n",
       "    <tr>\n",
       "      <th>77546</th>\n",
       "      <td>162960516</td>\n",
       "      <td>2.50</td>\n",
       "      <td>3.00</td>\n",
       "      <td>6.00</td>\n",
       "      <td>1449.00</td>\n",
       "      <td>6111.00</td>\n",
       "      <td>34273914.00</td>\n",
       "      <td>-119164501.00</td>\n",
       "      <td>6926.00</td>\n",
       "      <td>61110014.02</td>\n",
       "      <td>...</td>\n",
       "      <td>1986.00</td>\n",
       "      <td>288913.00</td>\n",
       "      <td>481521.00</td>\n",
       "      <td>2016.00</td>\n",
       "      <td>192608.00</td>\n",
       "      <td>5063.30</td>\n",
       "      <td>0.02</td>\n",
       "      <td>2017-05-08</td>\n",
       "      <td>None</td>\n",
       "      <td>Ventura</td>\n",
       "    </tr>\n",
       "    <tr>\n",
       "      <th>77547</th>\n",
       "      <td>162960529</td>\n",
       "      <td>4.00</td>\n",
       "      <td>4.00</td>\n",
       "      <td>6.00</td>\n",
       "      <td>2459.00</td>\n",
       "      <td>6111.00</td>\n",
       "      <td>34245590.00</td>\n",
       "      <td>-119169692.00</td>\n",
       "      <td>5400.00</td>\n",
       "      <td>61110050.04</td>\n",
       "      <td>...</td>\n",
       "      <td>2007.00</td>\n",
       "      <td>169000.00</td>\n",
       "      <td>479000.00</td>\n",
       "      <td>2016.00</td>\n",
       "      <td>310000.00</td>\n",
       "      <td>12285.88</td>\n",
       "      <td>0.01</td>\n",
       "      <td>2017-05-26</td>\n",
       "      <td>None</td>\n",
       "      <td>Ventura</td>\n",
       "    </tr>\n",
       "    <tr>\n",
       "      <th>77548</th>\n",
       "      <td>162960596</td>\n",
       "      <td>2.00</td>\n",
       "      <td>4.00</td>\n",
       "      <td>6.00</td>\n",
       "      <td>1379.00</td>\n",
       "      <td>6111.00</td>\n",
       "      <td>34219587.00</td>\n",
       "      <td>-119042663.00</td>\n",
       "      <td>7343.00</td>\n",
       "      <td>61110055.02</td>\n",
       "      <td>...</td>\n",
       "      <td>1960.00</td>\n",
       "      <td>224567.00</td>\n",
       "      <td>449134.00</td>\n",
       "      <td>2016.00</td>\n",
       "      <td>224567.00</td>\n",
       "      <td>4787.16</td>\n",
       "      <td>0.03</td>\n",
       "      <td>2017-07-18</td>\n",
       "      <td>None</td>\n",
       "      <td>Ventura</td>\n",
       "    </tr>\n",
       "    <tr>\n",
       "      <th>77549</th>\n",
       "      <td>162960814</td>\n",
       "      <td>3.00</td>\n",
       "      <td>5.00</td>\n",
       "      <td>6.00</td>\n",
       "      <td>2754.00</td>\n",
       "      <td>6111.00</td>\n",
       "      <td>34258186.00</td>\n",
       "      <td>-118731299.00</td>\n",
       "      <td>5742.00</td>\n",
       "      <td>61110075.12</td>\n",
       "      <td>...</td>\n",
       "      <td>2000.00</td>\n",
       "      <td>292666.00</td>\n",
       "      <td>487774.00</td>\n",
       "      <td>2016.00</td>\n",
       "      <td>195108.00</td>\n",
       "      <td>5602.90</td>\n",
       "      <td>-0.01</td>\n",
       "      <td>2017-05-19</td>\n",
       "      <td>None</td>\n",
       "      <td>Ventura</td>\n",
       "    </tr>\n",
       "  </tbody>\n",
       "</table>\n",
       "<p>69730 rows × 25 columns</p>\n",
       "</div>"
      ],
      "text/plain": [
       "        parcelid  bathroomcnt  bedroomcnt  buildingqualitytypeid  \\\n",
       "0       10711855         2.00        3.00                   8.00   \n",
       "1       10711877         2.00        4.00                   8.00   \n",
       "2       10711888         2.00        4.00                   8.00   \n",
       "3       10711910         2.00        3.00                   8.00   \n",
       "4       10711923         2.00        4.00                   8.00   \n",
       "...          ...          ...         ...                    ...   \n",
       "77545   93577187         2.00        2.00                   6.00   \n",
       "77546  162960516         2.50        3.00                   6.00   \n",
       "77547  162960529         4.00        4.00                   6.00   \n",
       "77548  162960596         2.00        4.00                   6.00   \n",
       "77549  162960814         3.00        5.00                   6.00   \n",
       "\n",
       "       calculatedfinishedsquarefeet    fips    latitude     longitude  \\\n",
       "0                           2107.00 6037.00 34222559.00 -118617387.00   \n",
       "1                           1882.00 6037.00 34220261.00 -118616409.00   \n",
       "2                           1882.00 6037.00 34222491.00 -118616854.00   \n",
       "3                           1477.00 6037.00 34221864.00 -118615739.00   \n",
       "4                           1918.00 6037.00 34220619.00 -118615253.00   \n",
       "...                             ...     ...         ...           ...   \n",
       "77545                        900.00 6111.00 34212400.00 -119027000.00   \n",
       "77546                       1449.00 6111.00 34273914.00 -119164501.00   \n",
       "77547                       2459.00 6111.00 34245590.00 -119169692.00   \n",
       "77548                       1379.00 6111.00 34219587.00 -119042663.00   \n",
       "77549                       2754.00 6111.00 34258186.00 -118731299.00   \n",
       "\n",
       "       lotsizesquarefeet  rawcensustractandblock  ...  yearbuilt  \\\n",
       "0                9158.00             60371132.32  ...    1972.00   \n",
       "1                9035.00             60371132.32  ...    1972.00   \n",
       "2                9800.00             60371132.32  ...    1972.00   \n",
       "3               11285.00             60371132.32  ...    1960.00   \n",
       "4               11239.00             60371132.32  ...    1960.00   \n",
       "...                  ...                     ...  ...        ...   \n",
       "77545            7313.00             61110056.00  ...    2006.00   \n",
       "77546            6926.00             61110014.02  ...    1986.00   \n",
       "77547            5400.00             61110050.04  ...    2007.00   \n",
       "77548            7343.00             61110055.02  ...    1960.00   \n",
       "77549            5742.00             61110075.12  ...    2000.00   \n",
       "\n",
       "       structuretaxvaluedollarcnt  taxvaluedollarcnt  assessmentyear  \\\n",
       "0                       249655.00          624139.00         2016.00   \n",
       "1                       253000.00          660000.00         2016.00   \n",
       "2                       257591.00          542923.00         2016.00   \n",
       "3                        57968.00           78031.00         2016.00   \n",
       "4                       167869.00          415459.00         2016.00   \n",
       "...                           ...                ...             ...   \n",
       "77545                   108211.00          309621.00         2016.00   \n",
       "77546                   288913.00          481521.00         2016.00   \n",
       "77547                   169000.00          479000.00         2016.00   \n",
       "77548                   224567.00          449134.00         2016.00   \n",
       "77549                   292666.00          487774.00         2016.00   \n",
       "\n",
       "       landtaxvaluedollarcnt  taxamount  logerror  transactiondate  \\\n",
       "0                  374484.00    7659.36     -0.01       2017-07-07   \n",
       "1                  407000.00    8123.91      0.02       2017-08-29   \n",
       "2                  285332.00    6673.24      0.08       2017-04-04   \n",
       "3                   20063.00    1116.46     -0.04       2017-03-17   \n",
       "4                  247590.00    5239.85     -0.01       2017-03-24   \n",
       "...                      ...        ...       ...              ...   \n",
       "77545              201410.00    3280.22      0.02       2017-03-15   \n",
       "77546              192608.00    5063.30      0.02       2017-05-08   \n",
       "77547              310000.00   12285.88      0.01       2017-05-26   \n",
       "77548              224567.00    4787.16      0.03       2017-07-18   \n",
       "77549              195108.00    5602.90     -0.01       2017-05-19   \n",
       "\n",
       "       heatingorsystemdesc       county  \n",
       "0                  Central  Los_Angeles  \n",
       "1                  Central  Los_Angeles  \n",
       "2                  Central  Los_Angeles  \n",
       "3                  Central  Los_Angeles  \n",
       "4                  Central  Los_Angeles  \n",
       "...                    ...          ...  \n",
       "77545                 None      Ventura  \n",
       "77546                 None      Ventura  \n",
       "77547                 None      Ventura  \n",
       "77548                 None      Ventura  \n",
       "77549                 None      Ventura  \n",
       "\n",
       "[69730 rows x 25 columns]"
      ]
     },
     "execution_count": 6,
     "metadata": {},
     "output_type": "execute_result"
    }
   ],
   "source": [
    "# check if wrangle.py works as intended for zillow data:\n",
    "\n",
    "wrangle.wrangle_zillow()"
   ]
  }
 ],
 "metadata": {
  "kernelspec": {
   "display_name": "Python 3",
   "language": "python",
   "name": "python3"
  },
  "language_info": {
   "codemirror_mode": {
    "name": "ipython",
    "version": 3
   },
   "file_extension": ".py",
   "mimetype": "text/x-python",
   "name": "python",
   "nbconvert_exporter": "python",
   "pygments_lexer": "ipython3",
   "version": "3.8.5"
  }
 },
 "nbformat": 4,
 "nbformat_minor": 4
}
